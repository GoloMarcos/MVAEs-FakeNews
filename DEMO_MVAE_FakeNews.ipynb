{
  "nbformat": 4,
  "nbformat_minor": 0,
  "metadata": {
    "colab": {
      "name": "DEMO-MVAE-FakeNews.ipynb",
      "provenance": [],
      "collapsed_sections": []
    },
    "kernelspec": {
      "name": "python3",
      "display_name": "Python 3"
    },
    "language_info": {
      "name": "python"
    },
    "accelerator": "GPU",
    "widgets": {
      "application/vnd.jupyter.widget-state+json": {
        "1c7aa09ac35949199da970ba5aa98ed8": {
          "model_module": "@jupyter-widgets/controls",
          "model_name": "HBoxModel",
          "model_module_version": "1.5.0",
          "state": {
            "_view_name": "HBoxView",
            "_dom_classes": [],
            "_model_name": "HBoxModel",
            "_view_module": "@jupyter-widgets/controls",
            "_model_module_version": "1.5.0",
            "_view_count": null,
            "_view_module_version": "1.5.0",
            "box_style": "",
            "layout": "IPY_MODEL_40e5890c18a447eda6f0e85ea2a3c8cb",
            "_model_module": "@jupyter-widgets/controls",
            "children": [
              "IPY_MODEL_7f1230cdd9014ce6a67b6d37e3fcf519",
              "IPY_MODEL_153d4aa891ce48c5be2ce43411503212",
              "IPY_MODEL_a48bf595c6154d76a09b7319b663f297"
            ]
          }
        },
        "40e5890c18a447eda6f0e85ea2a3c8cb": {
          "model_module": "@jupyter-widgets/base",
          "model_name": "LayoutModel",
          "model_module_version": "1.2.0",
          "state": {
            "_view_name": "LayoutView",
            "grid_template_rows": null,
            "right": null,
            "justify_content": null,
            "_view_module": "@jupyter-widgets/base",
            "overflow": null,
            "_model_module_version": "1.2.0",
            "_view_count": null,
            "flex_flow": null,
            "width": null,
            "min_width": null,
            "border": null,
            "align_items": null,
            "bottom": null,
            "_model_module": "@jupyter-widgets/base",
            "top": null,
            "grid_column": null,
            "overflow_y": null,
            "overflow_x": null,
            "grid_auto_flow": null,
            "grid_area": null,
            "grid_template_columns": null,
            "flex": null,
            "_model_name": "LayoutModel",
            "justify_items": null,
            "grid_row": null,
            "max_height": null,
            "align_content": null,
            "visibility": null,
            "align_self": null,
            "height": null,
            "min_height": null,
            "padding": null,
            "grid_auto_rows": null,
            "grid_gap": null,
            "max_width": null,
            "order": null,
            "_view_module_version": "1.2.0",
            "grid_template_areas": null,
            "object_position": null,
            "object_fit": null,
            "grid_auto_columns": null,
            "margin": null,
            "display": null,
            "left": null
          }
        },
        "7f1230cdd9014ce6a67b6d37e3fcf519": {
          "model_module": "@jupyter-widgets/controls",
          "model_name": "HTMLModel",
          "model_module_version": "1.5.0",
          "state": {
            "_view_name": "HTMLView",
            "style": "IPY_MODEL_5ec330c5c6e64815ab354652236438ed",
            "_dom_classes": [],
            "description": "",
            "_model_name": "HTMLModel",
            "placeholder": "​",
            "_view_module": "@jupyter-widgets/controls",
            "_model_module_version": "1.5.0",
            "value": "100%",
            "_view_count": null,
            "_view_module_version": "1.5.0",
            "description_tooltip": null,
            "_model_module": "@jupyter-widgets/controls",
            "layout": "IPY_MODEL_625cc17481084531be3d488f78710061"
          }
        },
        "153d4aa891ce48c5be2ce43411503212": {
          "model_module": "@jupyter-widgets/controls",
          "model_name": "FloatProgressModel",
          "model_module_version": "1.5.0",
          "state": {
            "_view_name": "ProgressView",
            "style": "IPY_MODEL_74f5b73c1c9346caa8a9f8c55f7b8e18",
            "_dom_classes": [],
            "description": "",
            "_model_name": "FloatProgressModel",
            "bar_style": "success",
            "max": 503702349,
            "_view_module": "@jupyter-widgets/controls",
            "_model_module_version": "1.5.0",
            "value": 503702349,
            "_view_count": null,
            "_view_module_version": "1.5.0",
            "orientation": "horizontal",
            "min": 0,
            "description_tooltip": null,
            "_model_module": "@jupyter-widgets/controls",
            "layout": "IPY_MODEL_1afaf099bd3a41f2b224b14f02329587"
          }
        },
        "a48bf595c6154d76a09b7319b663f297": {
          "model_module": "@jupyter-widgets/controls",
          "model_name": "HTMLModel",
          "model_module_version": "1.5.0",
          "state": {
            "_view_name": "HTMLView",
            "style": "IPY_MODEL_9aeee72af45a47389105f1e0242c1a8f",
            "_dom_classes": [],
            "description": "",
            "_model_name": "HTMLModel",
            "placeholder": "​",
            "_view_module": "@jupyter-widgets/controls",
            "_model_module_version": "1.5.0",
            "value": " 504M/504M [00:38&lt;00:00, 25.8MB/s]",
            "_view_count": null,
            "_view_module_version": "1.5.0",
            "description_tooltip": null,
            "_model_module": "@jupyter-widgets/controls",
            "layout": "IPY_MODEL_0227d973e9c64325bcc518f668de2048"
          }
        },
        "5ec330c5c6e64815ab354652236438ed": {
          "model_module": "@jupyter-widgets/controls",
          "model_name": "DescriptionStyleModel",
          "model_module_version": "1.5.0",
          "state": {
            "_view_name": "StyleView",
            "_model_name": "DescriptionStyleModel",
            "description_width": "",
            "_view_module": "@jupyter-widgets/base",
            "_model_module_version": "1.5.0",
            "_view_count": null,
            "_view_module_version": "1.2.0",
            "_model_module": "@jupyter-widgets/controls"
          }
        },
        "625cc17481084531be3d488f78710061": {
          "model_module": "@jupyter-widgets/base",
          "model_name": "LayoutModel",
          "model_module_version": "1.2.0",
          "state": {
            "_view_name": "LayoutView",
            "grid_template_rows": null,
            "right": null,
            "justify_content": null,
            "_view_module": "@jupyter-widgets/base",
            "overflow": null,
            "_model_module_version": "1.2.0",
            "_view_count": null,
            "flex_flow": null,
            "width": null,
            "min_width": null,
            "border": null,
            "align_items": null,
            "bottom": null,
            "_model_module": "@jupyter-widgets/base",
            "top": null,
            "grid_column": null,
            "overflow_y": null,
            "overflow_x": null,
            "grid_auto_flow": null,
            "grid_area": null,
            "grid_template_columns": null,
            "flex": null,
            "_model_name": "LayoutModel",
            "justify_items": null,
            "grid_row": null,
            "max_height": null,
            "align_content": null,
            "visibility": null,
            "align_self": null,
            "height": null,
            "min_height": null,
            "padding": null,
            "grid_auto_rows": null,
            "grid_gap": null,
            "max_width": null,
            "order": null,
            "_view_module_version": "1.2.0",
            "grid_template_areas": null,
            "object_position": null,
            "object_fit": null,
            "grid_auto_columns": null,
            "margin": null,
            "display": null,
            "left": null
          }
        },
        "74f5b73c1c9346caa8a9f8c55f7b8e18": {
          "model_module": "@jupyter-widgets/controls",
          "model_name": "ProgressStyleModel",
          "model_module_version": "1.5.0",
          "state": {
            "_view_name": "StyleView",
            "_model_name": "ProgressStyleModel",
            "description_width": "",
            "_view_module": "@jupyter-widgets/base",
            "_model_module_version": "1.5.0",
            "_view_count": null,
            "_view_module_version": "1.2.0",
            "bar_color": null,
            "_model_module": "@jupyter-widgets/controls"
          }
        },
        "1afaf099bd3a41f2b224b14f02329587": {
          "model_module": "@jupyter-widgets/base",
          "model_name": "LayoutModel",
          "model_module_version": "1.2.0",
          "state": {
            "_view_name": "LayoutView",
            "grid_template_rows": null,
            "right": null,
            "justify_content": null,
            "_view_module": "@jupyter-widgets/base",
            "overflow": null,
            "_model_module_version": "1.2.0",
            "_view_count": null,
            "flex_flow": null,
            "width": null,
            "min_width": null,
            "border": null,
            "align_items": null,
            "bottom": null,
            "_model_module": "@jupyter-widgets/base",
            "top": null,
            "grid_column": null,
            "overflow_y": null,
            "overflow_x": null,
            "grid_auto_flow": null,
            "grid_area": null,
            "grid_template_columns": null,
            "flex": null,
            "_model_name": "LayoutModel",
            "justify_items": null,
            "grid_row": null,
            "max_height": null,
            "align_content": null,
            "visibility": null,
            "align_self": null,
            "height": null,
            "min_height": null,
            "padding": null,
            "grid_auto_rows": null,
            "grid_gap": null,
            "max_width": null,
            "order": null,
            "_view_module_version": "1.2.0",
            "grid_template_areas": null,
            "object_position": null,
            "object_fit": null,
            "grid_auto_columns": null,
            "margin": null,
            "display": null,
            "left": null
          }
        },
        "9aeee72af45a47389105f1e0242c1a8f": {
          "model_module": "@jupyter-widgets/controls",
          "model_name": "DescriptionStyleModel",
          "model_module_version": "1.5.0",
          "state": {
            "_view_name": "StyleView",
            "_model_name": "DescriptionStyleModel",
            "description_width": "",
            "_view_module": "@jupyter-widgets/base",
            "_model_module_version": "1.5.0",
            "_view_count": null,
            "_view_module_version": "1.2.0",
            "_model_module": "@jupyter-widgets/controls"
          }
        },
        "0227d973e9c64325bcc518f668de2048": {
          "model_module": "@jupyter-widgets/base",
          "model_name": "LayoutModel",
          "model_module_version": "1.2.0",
          "state": {
            "_view_name": "LayoutView",
            "grid_template_rows": null,
            "right": null,
            "justify_content": null,
            "_view_module": "@jupyter-widgets/base",
            "overflow": null,
            "_model_module_version": "1.2.0",
            "_view_count": null,
            "flex_flow": null,
            "width": null,
            "min_width": null,
            "border": null,
            "align_items": null,
            "bottom": null,
            "_model_module": "@jupyter-widgets/base",
            "top": null,
            "grid_column": null,
            "overflow_y": null,
            "overflow_x": null,
            "grid_auto_flow": null,
            "grid_area": null,
            "grid_template_columns": null,
            "flex": null,
            "_model_name": "LayoutModel",
            "justify_items": null,
            "grid_row": null,
            "max_height": null,
            "align_content": null,
            "visibility": null,
            "align_self": null,
            "height": null,
            "min_height": null,
            "padding": null,
            "grid_auto_rows": null,
            "grid_gap": null,
            "max_width": null,
            "order": null,
            "_view_module_version": "1.2.0",
            "grid_template_areas": null,
            "object_position": null,
            "object_fit": null,
            "grid_auto_columns": null,
            "margin": null,
            "display": null,
            "left": null
          }
        }
      }
    }
  },
  "cells": [
    {
      "cell_type": "markdown",
      "metadata": {
        "id": "oVo_gxxRWltr"
      },
      "source": [
        "# Load Models"
      ]
    },
    {
      "cell_type": "code",
      "metadata": {
        "colab": {
          "base_uri": "https://localhost:8080/"
        },
        "id": "gF3DzoaEVPlG",
        "outputId": "44e93447-b928-42f6-9b71-226c8370f4dd"
      },
      "source": [
        "!gdown --id 1NecoacY-Teqo2RQJLOrpQ41p_5J2nHgx"
      ],
      "execution_count": 1,
      "outputs": [
        {
          "output_type": "stream",
          "name": "stdout",
          "text": [
            "Downloading...\n",
            "From: https://drive.google.com/uc?id=1NecoacY-Teqo2RQJLOrpQ41p_5J2nHgx\n",
            "To: /content/NewDemo.zip\n",
            "100% 210M/210M [00:01<00:00, 180MB/s]\n"
          ]
        }
      ]
    },
    {
      "cell_type": "code",
      "metadata": {
        "colab": {
          "base_uri": "https://localhost:8080/"
        },
        "id": "GjoPfGFRWFwJ",
        "outputId": "d209e26f-9f73-4dee-ff08-a682e9f1f2e4"
      },
      "source": [
        "!unzip NewDemo.zip"
      ],
      "execution_count": 2,
      "outputs": [
        {
          "output_type": "stream",
          "name": "stdout",
          "text": [
            "Archive:  NewDemo.zip\n",
            "   creating: NewDemo/\n",
            "   creating: NewDemo/Encoder_TripleVAE/\n",
            "   creating: NewDemo/Encoder_TripleVAE/assets/\n",
            "  inflating: NewDemo/Encoder_TripleVAE/keras_metadata.pb  \n",
            "  inflating: NewDemo/Encoder_TripleVAE/saved_model.pb  \n",
            "   creating: NewDemo/Encoder_TripleVAE/variables/\n",
            "  inflating: NewDemo/Encoder_TripleVAE/variables/variables.data-00000-of-00001  \n",
            "  inflating: NewDemo/Encoder_TripleVAE/variables/variables.index  \n",
            "  inflating: NewDemo/fake_news.plk   \n",
            "  inflating: NewDemo/kmeans_12.pkl   \n",
            "  inflating: NewDemo/kmeans_15.pkl   \n",
            "  inflating: NewDemo/kmeans_3.pkl    \n",
            "  inflating: NewDemo/kmeans_6.pkl    \n",
            "  inflating: NewDemo/kmeans_9.pkl    \n"
          ]
        }
      ]
    },
    {
      "cell_type": "markdown",
      "metadata": {
        "id": "7onrE--KYCm1"
      },
      "source": [
        "## Load Bi-VAE-Density"
      ]
    },
    {
      "cell_type": "code",
      "metadata": {
        "colab": {
          "base_uri": "https://localhost:8080/"
        },
        "id": "IdC2lkJJXzQe",
        "outputId": "44845561-6ba1-4e27-a2df-04755e2ec694"
      },
      "source": [
        "import tensorflow as tf\n",
        "\n",
        "tripleVAE = tf.keras.models.load_model('NewDemo/Encoder_TripleVAE')"
      ],
      "execution_count": 3,
      "outputs": [
        {
          "output_type": "stream",
          "name": "stdout",
          "text": [
            "WARNING:tensorflow:No training configuration found in save file, so the model was *not* compiled. Compile it manually.\n"
          ]
        }
      ]
    },
    {
      "cell_type": "markdown",
      "metadata": {
        "id": "i9C9yxfLYYav"
      },
      "source": [
        "## Load Kmeans"
      ]
    },
    {
      "cell_type": "code",
      "metadata": {
        "id": "Pk9nz79NWG6z"
      },
      "source": [
        "import pickle\n",
        "\n",
        "l_kmeans = []\n",
        "\n",
        "for k in [3,6,9,12,15]:\n",
        "  with open('NewDemo/kmeans_' + str(k) + '.pkl', 'rb') as file:\n",
        "    l_kmeans.append(pickle.load(file))"
      ],
      "execution_count": 4,
      "outputs": []
    },
    {
      "cell_type": "markdown",
      "metadata": {
        "id": "BXkdSoK9YdA3"
      },
      "source": [
        "## Load fake news of train"
      ]
    },
    {
      "cell_type": "code",
      "metadata": {
        "id": "FNnhXDN_XVz0"
      },
      "source": [
        "import pandas as pd\n",
        "import numpy as np\n",
        "df_fk_train = pd.read_pickle('NewDemo/fake_news.plk')\n",
        "df_train = np.array(df_fk_train['DistilBERT Multilingua'].to_list())"
      ],
      "execution_count": 5,
      "outputs": []
    },
    {
      "cell_type": "markdown",
      "metadata": {
        "id": "hyt5qbFwY5oQ"
      },
      "source": [
        "# DBERTML Embeddings (USE GPU)"
      ]
    },
    {
      "cell_type": "code",
      "metadata": {
        "colab": {
          "base_uri": "https://localhost:8080/"
        },
        "id": "B9AhWdJiY5C5",
        "outputId": "3d6ce2f2-cac8-40d3-8874-2fafc7f9dd2a"
      },
      "source": [
        "!pip install sentence-transformers==1.0.4 #version used in the fake news collections"
      ],
      "execution_count": 6,
      "outputs": [
        {
          "output_type": "stream",
          "name": "stdout",
          "text": [
            "Collecting sentence-transformers==1.0.4\n",
            "  Downloading sentence-transformers-1.0.4.tar.gz (74 kB)\n",
            "\u001b[K     |████████████████████████████████| 74 kB 2.1 MB/s \n",
            "\u001b[?25hCollecting transformers<5.0.0,>=3.1.0\n",
            "  Downloading transformers-4.16.2-py3-none-any.whl (3.5 MB)\n",
            "\u001b[K     |████████████████████████████████| 3.5 MB 31.9 MB/s \n",
            "\u001b[?25hRequirement already satisfied: tqdm in /usr/local/lib/python3.7/dist-packages (from sentence-transformers==1.0.4) (4.62.3)\n",
            "Requirement already satisfied: torch>=1.6.0 in /usr/local/lib/python3.7/dist-packages (from sentence-transformers==1.0.4) (1.10.0+cu111)\n",
            "Requirement already satisfied: numpy in /usr/local/lib/python3.7/dist-packages (from sentence-transformers==1.0.4) (1.19.5)\n",
            "Requirement already satisfied: scikit-learn in /usr/local/lib/python3.7/dist-packages (from sentence-transformers==1.0.4) (1.0.2)\n",
            "Requirement already satisfied: scipy in /usr/local/lib/python3.7/dist-packages (from sentence-transformers==1.0.4) (1.4.1)\n",
            "Requirement already satisfied: nltk in /usr/local/lib/python3.7/dist-packages (from sentence-transformers==1.0.4) (3.2.5)\n",
            "Collecting sentencepiece\n",
            "  Downloading sentencepiece-0.1.96-cp37-cp37m-manylinux_2_17_x86_64.manylinux2014_x86_64.whl (1.2 MB)\n",
            "\u001b[K     |████████████████████████████████| 1.2 MB 34.9 MB/s \n",
            "\u001b[?25hRequirement already satisfied: typing-extensions in /usr/local/lib/python3.7/dist-packages (from torch>=1.6.0->sentence-transformers==1.0.4) (3.10.0.2)\n",
            "Collecting tokenizers!=0.11.3,>=0.10.1\n",
            "  Downloading tokenizers-0.11.4-cp37-cp37m-manylinux_2_12_x86_64.manylinux2010_x86_64.whl (6.8 MB)\n",
            "\u001b[K     |████████████████████████████████| 6.8 MB 31.6 MB/s \n",
            "\u001b[?25hRequirement already satisfied: requests in /usr/local/lib/python3.7/dist-packages (from transformers<5.0.0,>=3.1.0->sentence-transformers==1.0.4) (2.23.0)\n",
            "Requirement already satisfied: importlib-metadata in /usr/local/lib/python3.7/dist-packages (from transformers<5.0.0,>=3.1.0->sentence-transformers==1.0.4) (4.10.1)\n",
            "Requirement already satisfied: packaging>=20.0 in /usr/local/lib/python3.7/dist-packages (from transformers<5.0.0,>=3.1.0->sentence-transformers==1.0.4) (21.3)\n",
            "Collecting sacremoses\n",
            "  Downloading sacremoses-0.0.47-py2.py3-none-any.whl (895 kB)\n",
            "\u001b[K     |████████████████████████████████| 895 kB 31.2 MB/s \n",
            "\u001b[?25hCollecting huggingface-hub<1.0,>=0.1.0\n",
            "  Downloading huggingface_hub-0.4.0-py3-none-any.whl (67 kB)\n",
            "\u001b[K     |████████████████████████████████| 67 kB 4.5 MB/s \n",
            "\u001b[?25hCollecting pyyaml>=5.1\n",
            "  Downloading PyYAML-6.0-cp37-cp37m-manylinux_2_5_x86_64.manylinux1_x86_64.manylinux_2_12_x86_64.manylinux2010_x86_64.whl (596 kB)\n",
            "\u001b[K     |████████████████████████████████| 596 kB 33.8 MB/s \n",
            "\u001b[?25hRequirement already satisfied: filelock in /usr/local/lib/python3.7/dist-packages (from transformers<5.0.0,>=3.1.0->sentence-transformers==1.0.4) (3.4.2)\n",
            "Requirement already satisfied: regex!=2019.12.17 in /usr/local/lib/python3.7/dist-packages (from transformers<5.0.0,>=3.1.0->sentence-transformers==1.0.4) (2019.12.20)\n",
            "Requirement already satisfied: pyparsing!=3.0.5,>=2.0.2 in /usr/local/lib/python3.7/dist-packages (from packaging>=20.0->transformers<5.0.0,>=3.1.0->sentence-transformers==1.0.4) (3.0.7)\n",
            "Requirement already satisfied: zipp>=0.5 in /usr/local/lib/python3.7/dist-packages (from importlib-metadata->transformers<5.0.0,>=3.1.0->sentence-transformers==1.0.4) (3.7.0)\n",
            "Requirement already satisfied: six in /usr/local/lib/python3.7/dist-packages (from nltk->sentence-transformers==1.0.4) (1.15.0)\n",
            "Requirement already satisfied: urllib3!=1.25.0,!=1.25.1,<1.26,>=1.21.1 in /usr/local/lib/python3.7/dist-packages (from requests->transformers<5.0.0,>=3.1.0->sentence-transformers==1.0.4) (1.24.3)\n",
            "Requirement already satisfied: chardet<4,>=3.0.2 in /usr/local/lib/python3.7/dist-packages (from requests->transformers<5.0.0,>=3.1.0->sentence-transformers==1.0.4) (3.0.4)\n",
            "Requirement already satisfied: idna<3,>=2.5 in /usr/local/lib/python3.7/dist-packages (from requests->transformers<5.0.0,>=3.1.0->sentence-transformers==1.0.4) (2.10)\n",
            "Requirement already satisfied: certifi>=2017.4.17 in /usr/local/lib/python3.7/dist-packages (from requests->transformers<5.0.0,>=3.1.0->sentence-transformers==1.0.4) (2021.10.8)\n",
            "Requirement already satisfied: joblib in /usr/local/lib/python3.7/dist-packages (from sacremoses->transformers<5.0.0,>=3.1.0->sentence-transformers==1.0.4) (1.1.0)\n",
            "Requirement already satisfied: click in /usr/local/lib/python3.7/dist-packages (from sacremoses->transformers<5.0.0,>=3.1.0->sentence-transformers==1.0.4) (7.1.2)\n",
            "Requirement already satisfied: threadpoolctl>=2.0.0 in /usr/local/lib/python3.7/dist-packages (from scikit-learn->sentence-transformers==1.0.4) (3.1.0)\n",
            "Building wheels for collected packages: sentence-transformers\n",
            "  Building wheel for sentence-transformers (setup.py) ... \u001b[?25l\u001b[?25hdone\n",
            "  Created wheel for sentence-transformers: filename=sentence_transformers-1.0.4-py3-none-any.whl size=114306 sha256=5190dc2423eb6810df513f096e6659762e46f7ffc2ea06b1ac43af103de20775\n",
            "  Stored in directory: /root/.cache/pip/wheels/36/29/9e/1d73f2751adb27f61c414d2656cef08c8353b9ad7cb7f149ef\n",
            "Successfully built sentence-transformers\n",
            "Installing collected packages: pyyaml, tokenizers, sacremoses, huggingface-hub, transformers, sentencepiece, sentence-transformers\n",
            "  Attempting uninstall: pyyaml\n",
            "    Found existing installation: PyYAML 3.13\n",
            "    Uninstalling PyYAML-3.13:\n",
            "      Successfully uninstalled PyYAML-3.13\n",
            "Successfully installed huggingface-hub-0.4.0 pyyaml-6.0 sacremoses-0.0.47 sentence-transformers-1.0.4 sentencepiece-0.1.96 tokenizers-0.11.4 transformers-4.16.2\n"
          ]
        }
      ]
    },
    {
      "cell_type": "code",
      "metadata": {
        "id": "4aaqyH_KZDNJ"
      },
      "source": [
        "from sentence_transformers import SentenceTransformer"
      ],
      "execution_count": 7,
      "outputs": []
    },
    {
      "cell_type": "code",
      "metadata": {
        "id": "sZK4rK_wZFhZ"
      },
      "source": [
        "def sentence_embedding(txts):\n",
        "\n",
        "  model = SentenceTransformer('distiluse-base-multilingual-cased')\n",
        "\n",
        "  sentences =[]\n",
        "\n",
        "  for txt in txts:\n",
        "    txt.replace('\\\\\\\\t', ' ')\n",
        "    txt.replace('\\\\\\\\r', ' ')\n",
        "    txt.replace('\\\\\\\\n',' ')\n",
        "    txt.replace('\\\\t', ' ')\n",
        "    txt.replace('\\\\r', ' ')\n",
        "    txt.replace('\\\\n',' ')\n",
        "    txt.replace('\\t', ' ')\n",
        "    txt.replace('\\r', ' ')\n",
        "    txt.replace('\\n',' ')\n",
        "    sentences.append(txt)\n",
        "\n",
        "  sentence_embeddings = model.encode(sentences)\n",
        "\n",
        "  return sentence_embeddings "
      ],
      "execution_count": 8,
      "outputs": []
    },
    {
      "cell_type": "markdown",
      "metadata": {
        "id": "YaNbGGROYq_w"
      },
      "source": [
        "# Density Information"
      ]
    },
    {
      "cell_type": "code",
      "metadata": {
        "id": "akHpCfbOYvhS"
      },
      "source": [
        "from sklearn.cluster import KMeans\n",
        "from sklearn.metrics import silhouette_samples, silhouette_score\n",
        "import numpy as np \n",
        "\n",
        "def return_density_inf(l_kmeans, df_train, df_new):\n",
        "    l_x_new = []\n",
        "\n",
        "    len_train = len(df_train)\n",
        "    len_new = len(df_new)\n",
        "\n",
        "    for kmeans in l_kmeans:\n",
        "        x_new_temp = []\n",
        "\n",
        "        dfs = np.concatenate([df_train, df_new])\n",
        "        labels = np.concatenate([kmeans.labels_, kmeans.predict(df_new)])\n",
        "          \n",
        "        silho = silhouette_samples(dfs, labels).reshape(len_train + len_new, 1)\n",
        "        l_x_new.append(silho[len_train:])\n",
        "\n",
        "    return np.concatenate(l_x_new, axis=1)"
      ],
      "execution_count": 9,
      "outputs": []
    },
    {
      "cell_type": "markdown",
      "source": [
        "# LIWC\n"
      ],
      "metadata": {
        "id": "fGu1davK4xTx"
      }
    },
    {
      "cell_type": "code",
      "source": [
        "columns_liwc = ['social','family', 'leisure', 'home', 'cogmech', 'funct', 'adverb', 'preps', 'conj', 'article', 'affect', 'negemo', 'anger', 'negate', 'excl', 'insight', 'time', 'relativ', 'verb', 'present', 'pronoun', 'ipron','auxverb', 'incl', 'ppron', 'you','number','work','quant','tentat','achieve','posemo','space','past','cause', 'inhib','future','discrep','shehe','sad','certain','bio','body','sexual','percept','feel', 'relig','anx','death','humans', 'money','motion', 'we', 'hear','i', 'see', 'swear','health','nonfl','they', 'assent','filler','ingest','friend','non_immediacy','incertainty','pausality','emotiveness']"
      ],
      "metadata": {
        "id": "Sj4Ye5Kw4zHq"
      },
      "execution_count": 10,
      "outputs": []
    },
    {
      "cell_type": "code",
      "source": [
        "!gdown --id 1-2oC18R8lBDfZhPVNutFBrr_cveEQCjX"
      ],
      "metadata": {
        "colab": {
          "base_uri": "https://localhost:8080/"
        },
        "id": "eV-jT81x40rz",
        "outputId": "9eb4284d-0a86-4510-869d-b161f0319b74"
      },
      "execution_count": 11,
      "outputs": [
        {
          "output_type": "stream",
          "name": "stdout",
          "text": [
            "Downloading...\n",
            "From: https://drive.google.com/uc?id=1-2oC18R8lBDfZhPVNutFBrr_cveEQCjX\n",
            "To: /content/min_max_scaler_LIWC.save\n",
            "\r  0% 0.00/3.33k [00:00<?, ?B/s]\r100% 3.33k/3.33k [00:00<00:00, 5.83MB/s]\n"
          ]
        }
      ]
    },
    {
      "cell_type": "code",
      "source": [
        "import joblib\n",
        "min_max_scaler_LIWC = joblib.load('min_max_scaler_LIWC.save') "
      ],
      "metadata": {
        "id": "J4UcwXJf42JJ"
      },
      "execution_count": 12,
      "outputs": []
    },
    {
      "cell_type": "code",
      "source": [
        "!gdown --id 1ybt-bi6H0gAHL0fQNaleDEtlCwmBeyPn"
      ],
      "metadata": {
        "colab": {
          "base_uri": "https://localhost:8080/"
        },
        "id": "2QxM5mdE44Ox",
        "outputId": "796ae647-70d9-445d-95e0-c7179c11d400"
      },
      "execution_count": 13,
      "outputs": [
        {
          "output_type": "stream",
          "name": "stdout",
          "text": [
            "Downloading...\n",
            "From: https://drive.google.com/uc?id=1ybt-bi6H0gAHL0fQNaleDEtlCwmBeyPn\n",
            "To: /content/LiwcFeatures.zip\n",
            "\r  0% 0.00/8.57M [00:00<?, ?B/s]\r 55% 4.72M/8.57M [00:00<00:00, 41.0MB/s]\r100% 8.57M/8.57M [00:00<00:00, 64.0MB/s]\n"
          ]
        }
      ]
    },
    {
      "cell_type": "code",
      "source": [
        "!unzip LiwcFeatures.zip"
      ],
      "metadata": {
        "colab": {
          "base_uri": "https://localhost:8080/"
        },
        "id": "F_9XtFNj45rx",
        "outputId": "97bf2bc4-0c7a-46ec-c019-20cd451bb8a0"
      },
      "execution_count": 14,
      "outputs": [
        {
          "output_type": "stream",
          "name": "stdout",
          "text": [
            "Archive:  LiwcFeatures.zip\n",
            "  inflating: get_liwc_features.ipynb  \n",
            "  inflating: indexes.npy             \n",
            "  inflating: labels.npy              \n",
            "   creating: dictionaries/\n",
            "  inflating: dictionaries/LIWC2007_English.dic  \n",
            "  inflating: dictionaries/LIWC2007_Portugues_win.dic  \n",
            "   creating: liwc/\n",
            "  inflating: liwc/liwc.py            \n",
            "  inflating: liwc/test_liwc.py       \n",
            "  inflating: liwc/__init__.py        \n",
            "   creating: liwc/__pycache__/\n",
            "  inflating: liwc/__pycache__/liwc.cpython-37.pyc  \n",
            "  inflating: liwc/__pycache__/liwc.cpython-38.pyc  \n",
            "  inflating: liwc/__pycache__/__init__.cpython-37.pyc  \n",
            "  inflating: liwc/__pycache__/__init__.cpython-38.pyc  \n",
            "  inflating: fnc0.pkl                \n"
          ]
        }
      ]
    },
    {
      "cell_type": "code",
      "source": [
        "from liwc.liwc import Liwc\n",
        "\n",
        "liwc_pt = Liwc('dictionaries/LIWC2007_Portugues_win.dic')\n",
        "\n",
        "liwc_en = Liwc('dictionaries/LIWC2007_English.dic')\n",
        "\n",
        "import pickle\n",
        "import numpy as np\n",
        "import pandas as pd\n",
        "from sklearn import preprocessing\n",
        "import collections"
      ],
      "metadata": {
        "id": "yD6CpuDV47A_"
      },
      "execution_count": 15,
      "outputs": []
    },
    {
      "cell_type": "code",
      "source": [
        "def new_dicts(dict_liwc, list_features):\n",
        "\n",
        "  for feature in list_features:\n",
        "    if feature not in dict_liwc:\n",
        "      dict_liwc.update({feature :0.0})\n",
        "  \n",
        "  return dict_liwc\n",
        "\n",
        "def return_LIWC(textual_documents, language):\n",
        "  \n",
        "  dict_types = {}\n",
        "\n",
        "  if language == 'pt':\n",
        "    liwc = liwc_pt\n",
        "  else: \n",
        "    liwc = liwc_en\n",
        "\n",
        "  for i in range(len(textual_documents)):\n",
        "    txt = str(textual_documents[i]).lower()\n",
        "    dict_liwc = liwc.parse(txt.split(' '))\n",
        "    \n",
        "    dict_types[i] = new_dicts(dict_liwc, columns_liwc)\n",
        "\n",
        "  data_features = pd.DataFrame.from_dict(dict_types, orient='index').fillna(0)\n",
        "\n",
        "  return data_features\n",
        "\n",
        "def return_LIWC_normalized(data_features):\n",
        "\n",
        "  x = data_features.values\n",
        "\n",
        "  x_scaled = min_max_scaler_LIWC.transform(x)\n",
        "  data_normalized = pd.DataFrame(x_scaled, index=data_features.index, columns=data_features.columns)\n",
        "\n",
        "  return data_normalized"
      ],
      "metadata": {
        "id": "iLiNDajv48xr"
      },
      "execution_count": 16,
      "outputs": []
    },
    {
      "cell_type": "markdown",
      "metadata": {
        "id": "xdyNNJ3ZZXxb"
      },
      "source": [
        "# DEMO\n",
        "## Examples from https://g1.globo.com/fato-ou-fake/"
      ]
    },
    {
      "cell_type": "code",
      "source": [
        "!gdown --id 16LwNrCuq_teUzT5Erb8mPxvKtgwC8yfA"
      ],
      "metadata": {
        "colab": {
          "base_uri": "https://localhost:8080/"
        },
        "id": "zCvsIJbjhziN",
        "outputId": "83e3b84a-a68b-43da-af83-eb0ac92575a2"
      },
      "execution_count": 17,
      "outputs": [
        {
          "output_type": "stream",
          "name": "stdout",
          "text": [
            "Downloading...\n",
            "From: https://drive.google.com/uc?id=16LwNrCuq_teUzT5Erb8mPxvKtgwC8yfA\n",
            "To: /content/fakenews_G1.plk\n",
            "\r  0% 0.00/737k [00:00<?, ?B/s]\r100% 737k/737k [00:00<00:00, 74.9MB/s]\n"
          ]
        }
      ]
    },
    {
      "cell_type": "code",
      "source": [
        "df_fake_g1 = pd.read_pickle('fakenews_G1.plk')"
      ],
      "metadata": {
        "id": "koDIrrIyiEXW"
      },
      "execution_count": 18,
      "outputs": []
    },
    {
      "cell_type": "code",
      "source": [
        "df_fake_g1"
      ],
      "metadata": {
        "colab": {
          "base_uri": "https://localhost:8080/",
          "height": 641
        },
        "id": "O0mxVnnOi7jL",
        "outputId": "7ceeebab-4861-4ee8-b58e-76089592a2ca"
      },
      "execution_count": 19,
      "outputs": [
        {
          "output_type": "execute_result",
          "data": {
            "text/html": [
              "\n",
              "  <div id=\"df-d4553a96-c4bf-46ed-a9f4-865e5d40920c\">\n",
              "    <div class=\"colab-df-container\">\n",
              "      <div>\n",
              "<style scoped>\n",
              "    .dataframe tbody tr th:only-of-type {\n",
              "        vertical-align: middle;\n",
              "    }\n",
              "\n",
              "    .dataframe tbody tr th {\n",
              "        vertical-align: top;\n",
              "    }\n",
              "\n",
              "    .dataframe thead th {\n",
              "        text-align: right;\n",
              "    }\n",
              "</style>\n",
              "<table border=\"1\" class=\"dataframe\">\n",
              "  <thead>\n",
              "    <tr style=\"text-align: right;\">\n",
              "      <th></th>\n",
              "      <th>type</th>\n",
              "      <th>date</th>\n",
              "      <th>summary</th>\n",
              "      <th>title</th>\n",
              "      <th>url</th>\n",
              "      <th>topic</th>\n",
              "    </tr>\n",
              "  </thead>\n",
              "  <tbody>\n",
              "    <tr>\n",
              "      <th>0</th>\n",
              "      <td>materia</td>\n",
              "      <td>2019-12-10 20:22:26.879000+00:00</td>\n",
              "      <td>Mensagens que atribuem imagens à jovem ambient...</td>\n",
              "      <td>É #FAKE que jovem com metralhadora em vídeo se...</td>\n",
              "      <td>https://g1.globo.com/fato-ou-fake/noticia/2019...</td>\n",
              "      <td>FAKE</td>\n",
              "    </tr>\n",
              "    <tr>\n",
              "      <th>1</th>\n",
              "      <td>materia</td>\n",
              "      <td>2019-12-05 20:08:49.640000+00:00</td>\n",
              "      <td>Mensagem falsa circula em redes sociais com vá...</td>\n",
              "      <td>É #FAKE que atual presidente da UNE está cursa...</td>\n",
              "      <td>https://g1.globo.com/fato-ou-fake/noticia/2019...</td>\n",
              "      <td>FAKE</td>\n",
              "    </tr>\n",
              "    <tr>\n",
              "      <th>2</th>\n",
              "      <td>materia</td>\n",
              "      <td>2019-12-05 17:11:26.343000+00:00</td>\n",
              "      <td>Imagens correspondem a gravação da série 'Arca...</td>\n",
              "      <td>É #FAKE que vídeo mostre traficante sendo 'aba...</td>\n",
              "      <td>https://g1.globo.com/fato-ou-fake/noticia/2019...</td>\n",
              "      <td>FAKE</td>\n",
              "    </tr>\n",
              "    <tr>\n",
              "      <th>3</th>\n",
              "      <td>materia</td>\n",
              "      <td>2019-12-05 16:22:38.498000+00:00</td>\n",
              "      <td>Vídeo de dupla armada em moto ao som similar a...</td>\n",
              "      <td>É #FAKE que imagens de homem com arma para o a...</td>\n",
              "      <td>https://g1.globo.com/fato-ou-fake/noticia/2019...</td>\n",
              "      <td>FAKE</td>\n",
              "    </tr>\n",
              "    <tr>\n",
              "      <th>4</th>\n",
              "      <td>materia</td>\n",
              "      <td>2019-12-04 21:56:19.876000+00:00</td>\n",
              "      <td>Imagens de agressão a policiais circulam como ...</td>\n",
              "      <td>É #FAKE que vídeo em que grupo joga garrafas e...</td>\n",
              "      <td>https://g1.globo.com/fato-ou-fake/noticia/2019...</td>\n",
              "      <td>FAKE</td>\n",
              "    </tr>\n",
              "    <tr>\n",
              "      <th>...</th>\n",
              "      <td>...</td>\n",
              "      <td>...</td>\n",
              "      <td>...</td>\n",
              "      <td>...</td>\n",
              "      <td>...</td>\n",
              "      <td>...</td>\n",
              "    </tr>\n",
              "    <tr>\n",
              "      <th>3</th>\n",
              "      <td>materia</td>\n",
              "      <td>2020-08-25 22:19:38.758000+00:00</td>\n",
              "      <td>WhatsApp informa que aviso foi, de fato, emiti...</td>\n",
              "      <td>É #FAKE mensagem que fala que aviso de privaci...</td>\n",
              "      <td>https://g1.globo.com/fato-ou-fake/noticia/2020...</td>\n",
              "      <td>FAKE</td>\n",
              "    </tr>\n",
              "    <tr>\n",
              "      <th>4</th>\n",
              "      <td>materia</td>\n",
              "      <td>2020-08-25 16:37:17.638000+00:00</td>\n",
              "      <td>Mensagem diz que decisão foi oferecer espetácu...</td>\n",
              "      <td>É #FAKE que vídeo mostre show de fogos de arti...</td>\n",
              "      <td>https://g1.globo.com/fato-ou-fake/noticia/2020...</td>\n",
              "      <td>FAKE</td>\n",
              "    </tr>\n",
              "    <tr>\n",
              "      <th>5</th>\n",
              "      <td>materia</td>\n",
              "      <td>2020-08-24 23:30:59.280000+00:00</td>\n",
              "      <td>Advogado de João de Deus afirma que ele não de...</td>\n",
              "      <td>É #FAKE que João de Deus disse que ministros d...</td>\n",
              "      <td>https://g1.globo.com/fato-ou-fake/noticia/2020...</td>\n",
              "      <td>FAKE</td>\n",
              "    </tr>\n",
              "    <tr>\n",
              "      <th>6</th>\n",
              "      <td>materia</td>\n",
              "      <td>2020-08-24 18:10:35.925000+00:00</td>\n",
              "      <td>Texto que circula pelas redes sociais usa info...</td>\n",
              "      <td>É #FAKE que uso de máscara contra o coronavíru...</td>\n",
              "      <td>https://g1.globo.com/fato-ou-fake/coronavirus/...</td>\n",
              "      <td>FAKE</td>\n",
              "    </tr>\n",
              "    <tr>\n",
              "      <th>7</th>\n",
              "      <td>materia</td>\n",
              "      <td>2020-08-24 16:20:10.002000+00:00</td>\n",
              "      <td>Imagem é de equipamentos da empresa Yellow, qu...</td>\n",
              "      <td>É #FAKE que foto mostre centenas de bicicletas...</td>\n",
              "      <td>https://g1.globo.com/fato-ou-fake/noticia/2020...</td>\n",
              "      <td>FAKE</td>\n",
              "    </tr>\n",
              "  </tbody>\n",
              "</table>\n",
              "<p>1626 rows × 6 columns</p>\n",
              "</div>\n",
              "      <button class=\"colab-df-convert\" onclick=\"convertToInteractive('df-d4553a96-c4bf-46ed-a9f4-865e5d40920c')\"\n",
              "              title=\"Convert this dataframe to an interactive table.\"\n",
              "              style=\"display:none;\">\n",
              "        \n",
              "  <svg xmlns=\"http://www.w3.org/2000/svg\" height=\"24px\"viewBox=\"0 0 24 24\"\n",
              "       width=\"24px\">\n",
              "    <path d=\"M0 0h24v24H0V0z\" fill=\"none\"/>\n",
              "    <path d=\"M18.56 5.44l.94 2.06.94-2.06 2.06-.94-2.06-.94-.94-2.06-.94 2.06-2.06.94zm-11 1L8.5 8.5l.94-2.06 2.06-.94-2.06-.94L8.5 2.5l-.94 2.06-2.06.94zm10 10l.94 2.06.94-2.06 2.06-.94-2.06-.94-.94-2.06-.94 2.06-2.06.94z\"/><path d=\"M17.41 7.96l-1.37-1.37c-.4-.4-.92-.59-1.43-.59-.52 0-1.04.2-1.43.59L10.3 9.45l-7.72 7.72c-.78.78-.78 2.05 0 2.83L4 21.41c.39.39.9.59 1.41.59.51 0 1.02-.2 1.41-.59l7.78-7.78 2.81-2.81c.8-.78.8-2.07 0-2.86zM5.41 20L4 18.59l7.72-7.72 1.47 1.35L5.41 20z\"/>\n",
              "  </svg>\n",
              "      </button>\n",
              "      \n",
              "  <style>\n",
              "    .colab-df-container {\n",
              "      display:flex;\n",
              "      flex-wrap:wrap;\n",
              "      gap: 12px;\n",
              "    }\n",
              "\n",
              "    .colab-df-convert {\n",
              "      background-color: #E8F0FE;\n",
              "      border: none;\n",
              "      border-radius: 50%;\n",
              "      cursor: pointer;\n",
              "      display: none;\n",
              "      fill: #1967D2;\n",
              "      height: 32px;\n",
              "      padding: 0 0 0 0;\n",
              "      width: 32px;\n",
              "    }\n",
              "\n",
              "    .colab-df-convert:hover {\n",
              "      background-color: #E2EBFA;\n",
              "      box-shadow: 0px 1px 2px rgba(60, 64, 67, 0.3), 0px 1px 3px 1px rgba(60, 64, 67, 0.15);\n",
              "      fill: #174EA6;\n",
              "    }\n",
              "\n",
              "    [theme=dark] .colab-df-convert {\n",
              "      background-color: #3B4455;\n",
              "      fill: #D2E3FC;\n",
              "    }\n",
              "\n",
              "    [theme=dark] .colab-df-convert:hover {\n",
              "      background-color: #434B5C;\n",
              "      box-shadow: 0px 1px 3px 1px rgba(0, 0, 0, 0.15);\n",
              "      filter: drop-shadow(0px 1px 2px rgba(0, 0, 0, 0.3));\n",
              "      fill: #FFFFFF;\n",
              "    }\n",
              "  </style>\n",
              "\n",
              "      <script>\n",
              "        const buttonEl =\n",
              "          document.querySelector('#df-d4553a96-c4bf-46ed-a9f4-865e5d40920c button.colab-df-convert');\n",
              "        buttonEl.style.display =\n",
              "          google.colab.kernel.accessAllowed ? 'block' : 'none';\n",
              "\n",
              "        async function convertToInteractive(key) {\n",
              "          const element = document.querySelector('#df-d4553a96-c4bf-46ed-a9f4-865e5d40920c');\n",
              "          const dataTable =\n",
              "            await google.colab.kernel.invokeFunction('convertToInteractive',\n",
              "                                                     [key], {});\n",
              "          if (!dataTable) return;\n",
              "\n",
              "          const docLinkHtml = 'Like what you see? Visit the ' +\n",
              "            '<a target=\"_blank\" href=https://colab.research.google.com/notebooks/data_table.ipynb>data table notebook</a>'\n",
              "            + ' to learn more about interactive tables.';\n",
              "          element.innerHTML = '';\n",
              "          dataTable['output_type'] = 'display_data';\n",
              "          await google.colab.output.renderOutput(dataTable, element);\n",
              "          const docLink = document.createElement('div');\n",
              "          docLink.innerHTML = docLinkHtml;\n",
              "          element.appendChild(docLink);\n",
              "        }\n",
              "      </script>\n",
              "    </div>\n",
              "  </div>\n",
              "  "
            ],
            "text/plain": [
              "       type  ... topic\n",
              "0   materia  ...  FAKE\n",
              "1   materia  ...  FAKE\n",
              "2   materia  ...  FAKE\n",
              "3   materia  ...  FAKE\n",
              "4   materia  ...  FAKE\n",
              "..      ...  ...   ...\n",
              "3   materia  ...  FAKE\n",
              "4   materia  ...  FAKE\n",
              "5   materia  ...  FAKE\n",
              "6   materia  ...  FAKE\n",
              "7   materia  ...  FAKE\n",
              "\n",
              "[1626 rows x 6 columns]"
            ]
          },
          "metadata": {},
          "execution_count": 19
        }
      ]
    },
    {
      "cell_type": "code",
      "source": [
        "text = df_fake_g1.iloc[3]['summary']\n",
        "text"
      ],
      "metadata": {
        "colab": {
          "base_uri": "https://localhost:8080/",
          "height": 53
        },
        "id": "K8hJJgvqk7wr",
        "outputId": "6f8bde0a-354b-42d8-fed7-0ad3364b83b8"
      },
      "execution_count": 20,
      "outputs": [
        {
          "output_type": "execute_result",
          "data": {
            "application/vnd.google.colaboratory.intrinsic+json": {
              "type": "string"
            },
            "text/plain": [
              "'Vídeo de dupla armada em moto ao som similar ao de tiros e foto de jovem com colete da PM foram feitos em 2016, na Zona Norte de São Paulo, assim como imagens de homens armados em carro.'"
            ]
          },
          "metadata": {},
          "execution_count": 20
        }
      ]
    },
    {
      "cell_type": "code",
      "metadata": {
        "id": "NcpDQP5kZaED"
      },
      "source": [
        "inputs = [text]"
      ],
      "execution_count": 21,
      "outputs": []
    },
    {
      "cell_type": "code",
      "metadata": {
        "id": "25w2fOzSZe8U",
        "colab": {
          "base_uri": "https://localhost:8080/",
          "height": 49,
          "referenced_widgets": [
            "1c7aa09ac35949199da970ba5aa98ed8",
            "40e5890c18a447eda6f0e85ea2a3c8cb",
            "7f1230cdd9014ce6a67b6d37e3fcf519",
            "153d4aa891ce48c5be2ce43411503212",
            "a48bf595c6154d76a09b7319b663f297",
            "5ec330c5c6e64815ab354652236438ed",
            "625cc17481084531be3d488f78710061",
            "74f5b73c1c9346caa8a9f8c55f7b8e18",
            "1afaf099bd3a41f2b224b14f02329587",
            "9aeee72af45a47389105f1e0242c1a8f",
            "0227d973e9c64325bcc518f668de2048"
          ]
        },
        "outputId": "7754a887-5d2e-4666-faf5-533dabb1138f"
      },
      "source": [
        "embeddings_DBERTML = sentence_embedding(inputs)"
      ],
      "execution_count": 22,
      "outputs": [
        {
          "output_type": "display_data",
          "data": {
            "application/vnd.jupyter.widget-view+json": {
              "model_id": "1c7aa09ac35949199da970ba5aa98ed8",
              "version_minor": 0,
              "version_major": 2
            },
            "text/plain": [
              "  0%|          | 0.00/504M [00:00<?, ?B/s]"
            ]
          },
          "metadata": {}
        }
      ]
    },
    {
      "cell_type": "code",
      "metadata": {
        "id": "1q4xzB3BZkcT"
      },
      "source": [
        "densities = return_density_inf(l_kmeans, df_train, np.array(embeddings_DBERTML))"
      ],
      "execution_count": 23,
      "outputs": []
    },
    {
      "cell_type": "code",
      "source": [
        "language = 'pt'\n",
        "liwc_rep_features = return_LIWC(inputs, language)\n",
        "liwc_rep_features_columnsLIWC = liwc_rep_features[columns_liwc]\n",
        "liwc_text_train = return_LIWC_normalized(liwc_rep_features_columnsLIWC).to_numpy()"
      ],
      "metadata": {
        "id": "tTuwMkyB5MUo"
      },
      "execution_count": 24,
      "outputs": []
    },
    {
      "cell_type": "code",
      "metadata": {
        "id": "yaCquSybaH-h"
      },
      "source": [
        "embeddings_TripleVAE, _, _ = tripleVAE.predict([embeddings_DBERTML,densities,liwc_text_train]) "
      ],
      "execution_count": 25,
      "outputs": []
    },
    {
      "cell_type": "markdown",
      "source": [
        "# Top texts most similars"
      ],
      "metadata": {
        "id": "xK8JZCB6B22P"
      }
    },
    {
      "cell_type": "code",
      "source": [
        "densities_train = return_density_inf(l_kmeans, df_train, df_train)\n",
        "embeddings_train, _, _ = tripleVAE.predict([df_train,densities_train, np.array(df_fk_train['LIWC_normalized'].to_list())]) "
      ],
      "metadata": {
        "id": "3TodykUiDr5B"
      },
      "execution_count": 26,
      "outputs": []
    },
    {
      "cell_type": "code",
      "source": [
        "df_bests = df_fk_train\n",
        "df_bests['Embeddings_TVAE'] = list(embeddings_train)"
      ],
      "metadata": {
        "id": "sbxdlyljEDGp"
      },
      "execution_count": 27,
      "outputs": []
    },
    {
      "cell_type": "code",
      "source": [
        "from scipy.spatial import distance"
      ],
      "metadata": {
        "id": "eUuPe1rlB9Cm"
      },
      "execution_count": 28,
      "outputs": []
    },
    {
      "cell_type": "code",
      "source": [
        "embedding_top10 = embeddings_TripleVAE[0]"
      ],
      "metadata": {
        "id": "fMdcf-o0EnKd"
      },
      "execution_count": 29,
      "outputs": []
    },
    {
      "cell_type": "code",
      "source": [
        "l_dist = []\n",
        "for item,row in df_bests.iterrows():\n",
        "  l_dist.append(distance.euclidean(embedding_top10, row['Embeddings_TVAE']))\n",
        "\n",
        "df_bests['distance_euclidean'] = l_dist"
      ],
      "metadata": {
        "id": "GSfI-SySCkJF"
      },
      "execution_count": 30,
      "outputs": []
    },
    {
      "cell_type": "code",
      "source": [
        "df_fakenews = df_bests.sort_values(by='distance_euclidean', ascending=True)[['text','Embeddings_TVAE','class','distance_euclidean']]"
      ],
      "metadata": {
        "id": "rChh5FpNE1Af"
      },
      "execution_count": 31,
      "outputs": []
    },
    {
      "cell_type": "code",
      "source": [
        "from sklearn.manifold import TSNE\n",
        "import matplotlib.pyplot as plt\n",
        "\n",
        "def tsne_plot(df_fakenews, num_vizinhos=10):\n",
        "    labels = []\n",
        "    tokens = []\n",
        "\n",
        "    top_num_viz = df_fakenews[:num_vizinhos]\n",
        "    count = 0\n",
        "    for item,row in top_num_viz.iterrows():\n",
        "      tokens.append(row['Embeddings_TVAE'].tolist())\n",
        "      labels.append(count)\n",
        "      count+=1\n",
        "    tokens.append(embeddings_TripleVAE[0])\n",
        "    labels.append('NEW_TEXT')\n",
        "    \n",
        "    tsne_model = TSNE(perplexity=30, n_components=2)\n",
        "\n",
        "    new_values = tsne_model.fit_transform(tokens)\n",
        "\n",
        "    x = []\n",
        "    y = []\n",
        "    for value in new_values:\n",
        "        x.append(value[0])\n",
        "        y.append(value[1])\n",
        "        \n",
        "    plt.figure(figsize=(10, 10)) \n",
        "    for i in range(len(x)):\n",
        "        plt.scatter(x[i],y[i])\n",
        "        plt.annotate(labels[i],\n",
        "                     xy=(x[i], y[i]),\n",
        "                     xytext=(5, 2),\n",
        "                     textcoords='offset points',\n",
        "                     ha='right',\n",
        "                     va='bottom')\n",
        "    plt.show()"
      ],
      "metadata": {
        "id": "zCrUEaUkln3O"
      },
      "execution_count": 32,
      "outputs": []
    },
    {
      "cell_type": "code",
      "source": [
        "tsne_plot(df_fakenews, 50)"
      ],
      "metadata": {
        "colab": {
          "base_uri": "https://localhost:8080/",
          "height": 681
        },
        "id": "TL2lDs2ZlrGC",
        "outputId": "9143fa6c-26ee-4d76-a7b5-92eb6840bcb8"
      },
      "execution_count": 33,
      "outputs": [
        {
          "output_type": "stream",
          "name": "stderr",
          "text": [
            "/usr/local/lib/python3.7/dist-packages/sklearn/manifold/_t_sne.py:783: FutureWarning: The default initialization in TSNE will change from 'random' to 'pca' in 1.2.\n",
            "  FutureWarning,\n",
            "/usr/local/lib/python3.7/dist-packages/sklearn/manifold/_t_sne.py:793: FutureWarning: The default learning rate in TSNE will change from 200.0 to 'auto' in 1.2.\n",
            "  FutureWarning,\n"
          ]
        },
        {
          "output_type": "display_data",
          "data": {
            "image/png": "[encoded data removed]",
            "text/plain": [
              "<Figure size 720x720 with 1 Axes>"
            ]
          },
          "metadata": {
            "needs_background": "light"
          }
        }
      ]
    },
    {
      "cell_type": "code",
      "source": [
        "df = df_fakenews.reset_index()"
      ],
      "metadata": {
        "id": "LNrlHicFtEFK"
      },
      "execution_count": 34,
      "outputs": []
    },
    {
      "cell_type": "code",
      "source": [
        "df[:10]"
      ],
      "metadata": {
        "colab": {
          "base_uri": "https://localhost:8080/",
          "height": 363
        },
        "id": "R_iBL4i9t-g8",
        "outputId": "cecfc395-8f79-40f4-ff21-3e0d25667a93"
      },
      "execution_count": 35,
      "outputs": [
        {
          "output_type": "execute_result",
          "data": {
            "text/html": [
              "\n",
              "  <div id=\"df-f26108c9-4a41-4bca-9779-e04f7298118e\">\n",
              "    <div class=\"colab-df-container\">\n",
              "      <div>\n",
              "<style scoped>\n",
              "    .dataframe tbody tr th:only-of-type {\n",
              "        vertical-align: middle;\n",
              "    }\n",
              "\n",
              "    .dataframe tbody tr th {\n",
              "        vertical-align: top;\n",
              "    }\n",
              "\n",
              "    .dataframe thead th {\n",
              "        text-align: right;\n",
              "    }\n",
              "</style>\n",
              "<table border=\"1\" class=\"dataframe\">\n",
              "  <thead>\n",
              "    <tr style=\"text-align: right;\">\n",
              "      <th></th>\n",
              "      <th>index</th>\n",
              "      <th>text</th>\n",
              "      <th>Embeddings_TVAE</th>\n",
              "      <th>class</th>\n",
              "      <th>distance_euclidean</th>\n",
              "    </tr>\n",
              "  </thead>\n",
              "  <tbody>\n",
              "    <tr>\n",
              "      <th>0</th>\n",
              "      <td>1996</td>\n",
              "      <td>paraná câmeras da prf flagram uma colisão entr...</td>\n",
              "      <td>[9.5636584e-05, -0.01286095, 0.044525594, 0.01...</td>\n",
              "      <td>1</td>\n",
              "      <td>0.543900</td>\n",
              "    </tr>\n",
              "    <tr>\n",
              "      <th>1</th>\n",
              "      <td>1888</td>\n",
              "      <td>urgente facções rio grande norte entram em con...</td>\n",
              "      <td>[-0.05432204, -0.03978619, 0.008119197, 0.0374...</td>\n",
              "      <td>1</td>\n",
              "      <td>0.587929</td>\n",
              "    </tr>\n",
              "    <tr>\n",
              "      <th>2</th>\n",
              "      <td>487</td>\n",
              "      <td>bombeiro furta caminhão de quartel para jogar ...</td>\n",
              "      <td>[0.0059350757, 0.0051937164, 0.0589333, 0.0472...</td>\n",
              "      <td>1</td>\n",
              "      <td>0.601731</td>\n",
              "    </tr>\n",
              "    <tr>\n",
              "      <th>3</th>\n",
              "      <td>2132</td>\n",
              "      <td>você acredita em lei da atração adolescente po...</td>\n",
              "      <td>[0.0056318073, -0.043853287, 0.052131906, 0.03...</td>\n",
              "      <td>1</td>\n",
              "      <td>0.603031</td>\n",
              "    </tr>\n",
              "    <tr>\n",
              "      <th>4</th>\n",
              "      <td>755</td>\n",
              "      <td>frota posta foto instagram e zé babão cuspidor...</td>\n",
              "      <td>[0.03080969, 0.024489917, 0.021827102, 0.00828...</td>\n",
              "      <td>1</td>\n",
              "      <td>0.610336</td>\n",
              "    </tr>\n",
              "    <tr>\n",
              "      <th>5</th>\n",
              "      <td>7</td>\n",
              "      <td>em fortaleza homem sofre infarto andando de bi...</td>\n",
              "      <td>[-0.00019610347, -0.012191394, 0.0571083, 0.01...</td>\n",
              "      <td>1</td>\n",
              "      <td>0.612104</td>\n",
              "    </tr>\n",
              "    <tr>\n",
              "      <th>6</th>\n",
              "      <td>3149</td>\n",
              "      <td>filho de viceprefeita é flagrado dirigindo e o...</td>\n",
              "      <td>[0.006516658, 0.002923164, 0.03988207, 0.03720...</td>\n",
              "      <td>1</td>\n",
              "      <td>0.615203</td>\n",
              "    </tr>\n",
              "    <tr>\n",
              "      <th>7</th>\n",
              "      <td>914</td>\n",
              "      <td>artistas nordestinos ficam indignados com decl...</td>\n",
              "      <td>[-0.021103855, -0.077090114, 0.020559223, 0.00...</td>\n",
              "      <td>1</td>\n",
              "      <td>0.620807</td>\n",
              "    </tr>\n",
              "    <tr>\n",
              "      <th>8</th>\n",
              "      <td>2308</td>\n",
              "      <td>taxista confunde viatura com uber ataca carro ...</td>\n",
              "      <td>[0.03088582, -0.059681278, 0.10378091, 0.00937...</td>\n",
              "      <td>1</td>\n",
              "      <td>0.621520</td>\n",
              "    </tr>\n",
              "    <tr>\n",
              "      <th>9</th>\n",
              "      <td>2289</td>\n",
              "      <td>jovem que invadiu alvorada está sob custódia e...</td>\n",
              "      <td>[-0.00056406436, 0.003593938, 0.07395656, 0.03...</td>\n",
              "      <td>1</td>\n",
              "      <td>0.622003</td>\n",
              "    </tr>\n",
              "  </tbody>\n",
              "</table>\n",
              "</div>\n",
              "      <button class=\"colab-df-convert\" onclick=\"convertToInteractive('df-f26108c9-4a41-4bca-9779-e04f7298118e')\"\n",
              "              title=\"Convert this dataframe to an interactive table.\"\n",
              "              style=\"display:none;\">\n",
              "        \n",
              "  <svg xmlns=\"http://www.w3.org/2000/svg\" height=\"24px\"viewBox=\"0 0 24 24\"\n",
              "       width=\"24px\">\n",
              "    <path d=\"M0 0h24v24H0V0z\" fill=\"none\"/>\n",
              "    <path d=\"M18.56 5.44l.94 2.06.94-2.06 2.06-.94-2.06-.94-.94-2.06-.94 2.06-2.06.94zm-11 1L8.5 8.5l.94-2.06 2.06-.94-2.06-.94L8.5 2.5l-.94 2.06-2.06.94zm10 10l.94 2.06.94-2.06 2.06-.94-2.06-.94-.94-2.06-.94 2.06-2.06.94z\"/><path d=\"M17.41 7.96l-1.37-1.37c-.4-.4-.92-.59-1.43-.59-.52 0-1.04.2-1.43.59L10.3 9.45l-7.72 7.72c-.78.78-.78 2.05 0 2.83L4 21.41c.39.39.9.59 1.41.59.51 0 1.02-.2 1.41-.59l7.78-7.78 2.81-2.81c.8-.78.8-2.07 0-2.86zM5.41 20L4 18.59l7.72-7.72 1.47 1.35L5.41 20z\"/>\n",
              "  </svg>\n",
              "      </button>\n",
              "      \n",
              "  <style>\n",
              "    .colab-df-container {\n",
              "      display:flex;\n",
              "      flex-wrap:wrap;\n",
              "      gap: 12px;\n",
              "    }\n",
              "\n",
              "    .colab-df-convert {\n",
              "      background-color: #E8F0FE;\n",
              "      border: none;\n",
              "      border-radius: 50%;\n",
              "      cursor: pointer;\n",
              "      display: none;\n",
              "      fill: #1967D2;\n",
              "      height: 32px;\n",
              "      padding: 0 0 0 0;\n",
              "      width: 32px;\n",
              "    }\n",
              "\n",
              "    .colab-df-convert:hover {\n",
              "      background-color: #E2EBFA;\n",
              "      box-shadow: 0px 1px 2px rgba(60, 64, 67, 0.3), 0px 1px 3px 1px rgba(60, 64, 67, 0.15);\n",
              "      fill: #174EA6;\n",
              "    }\n",
              "\n",
              "    [theme=dark] .colab-df-convert {\n",
              "      background-color: #3B4455;\n",
              "      fill: #D2E3FC;\n",
              "    }\n",
              "\n",
              "    [theme=dark] .colab-df-convert:hover {\n",
              "      background-color: #434B5C;\n",
              "      box-shadow: 0px 1px 3px 1px rgba(0, 0, 0, 0.15);\n",
              "      filter: drop-shadow(0px 1px 2px rgba(0, 0, 0, 0.3));\n",
              "      fill: #FFFFFF;\n",
              "    }\n",
              "  </style>\n",
              "\n",
              "      <script>\n",
              "        const buttonEl =\n",
              "          document.querySelector('#df-f26108c9-4a41-4bca-9779-e04f7298118e button.colab-df-convert');\n",
              "        buttonEl.style.display =\n",
              "          google.colab.kernel.accessAllowed ? 'block' : 'none';\n",
              "\n",
              "        async function convertToInteractive(key) {\n",
              "          const element = document.querySelector('#df-f26108c9-4a41-4bca-9779-e04f7298118e');\n",
              "          const dataTable =\n",
              "            await google.colab.kernel.invokeFunction('convertToInteractive',\n",
              "                                                     [key], {});\n",
              "          if (!dataTable) return;\n",
              "\n",
              "          const docLinkHtml = 'Like what you see? Visit the ' +\n",
              "            '<a target=\"_blank\" href=https://colab.research.google.com/notebooks/data_table.ipynb>data table notebook</a>'\n",
              "            + ' to learn more about interactive tables.';\n",
              "          element.innerHTML = '';\n",
              "          dataTable['output_type'] = 'display_data';\n",
              "          await google.colab.output.renderOutput(dataTable, element);\n",
              "          const docLink = document.createElement('div');\n",
              "          docLink.innerHTML = docLinkHtml;\n",
              "          element.appendChild(docLink);\n",
              "        }\n",
              "      </script>\n",
              "    </div>\n",
              "  </div>\n",
              "  "
            ],
            "text/plain": [
              "   index  ... distance_euclidean\n",
              "0   1996  ...           0.543900\n",
              "1   1888  ...           0.587929\n",
              "2    487  ...           0.601731\n",
              "3   2132  ...           0.603031\n",
              "4    755  ...           0.610336\n",
              "5      7  ...           0.612104\n",
              "6   3149  ...           0.615203\n",
              "7    914  ...           0.620807\n",
              "8   2308  ...           0.621520\n",
              "9   2289  ...           0.622003\n",
              "\n",
              "[10 rows x 5 columns]"
            ]
          },
          "metadata": {},
          "execution_count": 35
        }
      ]
    }
  ]
}