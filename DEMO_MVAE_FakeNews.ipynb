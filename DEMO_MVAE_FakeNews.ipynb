{
  "nbformat": 4,
  "nbformat_minor": 0,
  "metadata": {
    "colab": {
      "name": "DEMO-MVAE-FakeNews.ipynb",
      "provenance": []
    },
    "kernelspec": {
      "name": "python3",
      "display_name": "Python 3"
    },
    "language_info": {
      "name": "python"
    }
  },
  "cells": [
    {
      "cell_type": "markdown",
      "metadata": {
        "id": "oVo_gxxRWltr"
      },
      "source": [
        "# Load Models"
      ]
    },
    {
      "cell_type": "code",
      "metadata": {
        "colab": {
          "base_uri": "https://localhost:8080/"
        },
        "id": "gF3DzoaEVPlG",
        "outputId": "3ed2a29e-474b-4759-bc94-8df8c0d962a6"
      },
      "source": [
        "!gdown --id 1Nrj3gi-ENBwsEqjsGB68pWGrQI8fFWC6"
      ],
      "execution_count": 1,
      "outputs": [
        {
          "output_type": "stream",
          "name": "stdout",
          "text": [
            "Downloading...\n",
            "From: https://drive.google.com/uc?id=1Nrj3gi-ENBwsEqjsGB68pWGrQI8fFWC6\n",
            "To: /content/DEMO.zip\n",
            "100% 215M/215M [00:02<00:00, 94.7MB/s]\n"
          ]
        }
      ]
    },
    {
      "cell_type": "code",
      "metadata": {
        "colab": {
          "base_uri": "https://localhost:8080/"
        },
        "id": "GjoPfGFRWFwJ",
        "outputId": "4dae6d9b-b991-4151-a79b-adf5dd900b45"
      },
      "source": [
        "!unzip DEMO.zip"
      ],
      "execution_count": 2,
      "outputs": [
        {
          "output_type": "stream",
          "name": "stdout",
          "text": [
            "Archive:  DEMO.zip\n",
            "   creating: DEMO/\n",
            "  inflating: DEMO/fake_news_of_train.pkl  \n",
            "  inflating: DEMO/OCSVM.pkl          \n",
            "  inflating: DEMO/kmeans_15.pkl      \n",
            "  inflating: DEMO/kmeans_14.pkl      \n",
            "  inflating: DEMO/kmeans_10.pkl      \n",
            "  inflating: DEMO/kmeans_11.pkl      \n",
            "  inflating: DEMO/kmeans_12.pkl      \n",
            "  inflating: DEMO/kmeans_13.pkl      \n",
            "  inflating: DEMO/Encoder_Bi-Vae-Density.zip  \n"
          ]
        }
      ]
    },
    {
      "cell_type": "code",
      "metadata": {
        "colab": {
          "base_uri": "https://localhost:8080/"
        },
        "id": "FCaRw-lNXuiD",
        "outputId": "977de8aa-4033-422b-c694-f0a7467795aa"
      },
      "source": [
        "!unzip DEMO/Encoder_Bi-Vae-Density.zip"
      ],
      "execution_count": 3,
      "outputs": [
        {
          "output_type": "stream",
          "name": "stdout",
          "text": [
            "Archive:  DEMO/Encoder_Bi-Vae-Density.zip\n",
            "   creating: Encoder_Bi-Vae-Density/\n",
            "  inflating: Encoder_Bi-Vae-Density/saved_model.pb  \n",
            "  inflating: Encoder_Bi-Vae-Density/keras_metadata.pb  \n",
            "   creating: Encoder_Bi-Vae-Density/assets/\n",
            "   creating: Encoder_Bi-Vae-Density/variables/\n",
            "  inflating: Encoder_Bi-Vae-Density/variables/variables.index  \n",
            "  inflating: Encoder_Bi-Vae-Density/variables/variables.data-00000-of-00001  \n"
          ]
        }
      ]
    },
    {
      "cell_type": "markdown",
      "metadata": {
        "id": "7onrE--KYCm1"
      },
      "source": [
        "## Load Bi-VAE-Density"
      ]
    },
    {
      "cell_type": "code",
      "metadata": {
        "colab": {
          "base_uri": "https://localhost:8080/"
        },
        "id": "IdC2lkJJXzQe",
        "outputId": "e1d10d48-9da2-41b3-ad5a-36558dbebff5"
      },
      "source": [
        "import tensorflow as tf\n",
        "\n",
        "bi_vae_density = tf.keras.models.load_model('Encoder_Bi-Vae-Density')"
      ],
      "execution_count": 4,
      "outputs": [
        {
          "output_type": "stream",
          "name": "stdout",
          "text": [
            "WARNING:tensorflow:No training configuration found in save file, so the model was *not* compiled. Compile it manually.\n"
          ]
        }
      ]
    },
    {
      "cell_type": "markdown",
      "metadata": {
        "id": "i9C9yxfLYYav"
      },
      "source": [
        "## Load Kmeans"
      ]
    },
    {
      "cell_type": "code",
      "metadata": {
        "id": "Pk9nz79NWG6z"
      },
      "source": [
        "import pickle\n",
        "\n",
        "l_kmeans = []\n",
        "\n",
        "for i in range(6):\n",
        "  with open('DEMO/kmeans_1' + str(i) + '.pkl', 'rb') as file:\n",
        "    l_kmeans.append(pickle.load(file))"
      ],
      "execution_count": 5,
      "outputs": []
    },
    {
      "cell_type": "markdown",
      "metadata": {
        "id": "BXkdSoK9YdA3"
      },
      "source": [
        "## Load fake news of train"
      ]
    },
    {
      "cell_type": "code",
      "metadata": {
        "id": "FNnhXDN_XVz0"
      },
      "source": [
        "import pandas as pd\n",
        "import numpy as np\n",
        "df_fk_train = pd.read_pickle('DEMO/fake_news_of_train.pkl')\n",
        "df_train = np.array(df_fk_train['DistilBERT Multilingua'].to_list())"
      ],
      "execution_count": 6,
      "outputs": []
    },
    {
      "cell_type": "markdown",
      "metadata": {
        "id": "gEBSCNWUYgmB"
      },
      "source": [
        "## Load OCSVM"
      ]
    },
    {
      "cell_type": "code",
      "metadata": {
        "id": "8KGG3ML3XtOP"
      },
      "source": [
        "with open('DEMO/OCSVM.pkl', 'rb') as file:\n",
        "  ocsvm = pickle.load(file)"
      ],
      "execution_count": 7,
      "outputs": []
    },
    {
      "cell_type": "markdown",
      "metadata": {
        "id": "hyt5qbFwY5oQ"
      },
      "source": [
        "# DBERTML Embeddings (USE GPU)"
      ]
    },
    {
      "cell_type": "code",
      "metadata": {
        "colab": {
          "base_uri": "https://localhost:8080/"
        },
        "id": "B9AhWdJiY5C5",
        "outputId": "ced74a77-55f8-4b3d-912a-7c52f5151d3b"
      },
      "source": [
        "!pip install sentence-transformers==1.0.4 #version used in the fake news collections"
      ],
      "execution_count": 8,
      "outputs": [
        {
          "output_type": "stream",
          "name": "stdout",
          "text": [
            "Collecting sentence-transformers==1.0.4\n",
            "  Downloading sentence-transformers-1.0.4.tar.gz (74 kB)\n",
            "\u001b[K     |████████████████████████████████| 74 kB 2.1 MB/s \n",
            "\u001b[?25hCollecting transformers<5.0.0,>=3.1.0\n",
            "  Downloading transformers-4.12.5-py3-none-any.whl (3.1 MB)\n",
            "\u001b[K     |████████████████████████████████| 3.1 MB 16.1 MB/s \n",
            "\u001b[?25hRequirement already satisfied: tqdm in /usr/local/lib/python3.7/dist-packages (from sentence-transformers==1.0.4) (4.62.3)\n",
            "Requirement already satisfied: torch>=1.6.0 in /usr/local/lib/python3.7/dist-packages (from sentence-transformers==1.0.4) (1.10.0+cu111)\n",
            "Requirement already satisfied: numpy in /usr/local/lib/python3.7/dist-packages (from sentence-transformers==1.0.4) (1.19.5)\n",
            "Requirement already satisfied: scikit-learn in /usr/local/lib/python3.7/dist-packages (from sentence-transformers==1.0.4) (1.0.1)\n",
            "Requirement already satisfied: scipy in /usr/local/lib/python3.7/dist-packages (from sentence-transformers==1.0.4) (1.4.1)\n",
            "Requirement already satisfied: nltk in /usr/local/lib/python3.7/dist-packages (from sentence-transformers==1.0.4) (3.2.5)\n",
            "Collecting sentencepiece\n",
            "  Downloading sentencepiece-0.1.96-cp37-cp37m-manylinux_2_17_x86_64.manylinux2014_x86_64.whl (1.2 MB)\n",
            "\u001b[K     |████████████████████████████████| 1.2 MB 47.0 MB/s \n",
            "\u001b[?25hRequirement already satisfied: typing-extensions in /usr/local/lib/python3.7/dist-packages (from torch>=1.6.0->sentence-transformers==1.0.4) (3.10.0.2)\n",
            "Collecting tokenizers<0.11,>=0.10.1\n",
            "  Downloading tokenizers-0.10.3-cp37-cp37m-manylinux_2_5_x86_64.manylinux1_x86_64.manylinux_2_12_x86_64.manylinux2010_x86_64.whl (3.3 MB)\n",
            "\u001b[K     |████████████████████████████████| 3.3 MB 20.9 MB/s \n",
            "\u001b[?25hRequirement already satisfied: requests in /usr/local/lib/python3.7/dist-packages (from transformers<5.0.0,>=3.1.0->sentence-transformers==1.0.4) (2.23.0)\n",
            "Requirement already satisfied: importlib-metadata in /usr/local/lib/python3.7/dist-packages (from transformers<5.0.0,>=3.1.0->sentence-transformers==1.0.4) (4.8.2)\n",
            "Requirement already satisfied: packaging>=20.0 in /usr/local/lib/python3.7/dist-packages (from transformers<5.0.0,>=3.1.0->sentence-transformers==1.0.4) (21.3)\n",
            "Requirement already satisfied: filelock in /usr/local/lib/python3.7/dist-packages (from transformers<5.0.0,>=3.1.0->sentence-transformers==1.0.4) (3.4.0)\n",
            "Collecting sacremoses\n",
            "  Downloading sacremoses-0.0.46-py3-none-any.whl (895 kB)\n",
            "\u001b[K     |████████████████████████████████| 895 kB 33.5 MB/s \n",
            "\u001b[?25hCollecting huggingface-hub<1.0,>=0.1.0\n",
            "  Downloading huggingface_hub-0.1.2-py3-none-any.whl (59 kB)\n",
            "\u001b[K     |████████████████████████████████| 59 kB 6.6 MB/s \n",
            "\u001b[?25hCollecting pyyaml>=5.1\n",
            "  Downloading PyYAML-6.0-cp37-cp37m-manylinux_2_5_x86_64.manylinux1_x86_64.manylinux_2_12_x86_64.manylinux2010_x86_64.whl (596 kB)\n",
            "\u001b[K     |████████████████████████████████| 596 kB 60.1 MB/s \n",
            "\u001b[?25hRequirement already satisfied: regex!=2019.12.17 in /usr/local/lib/python3.7/dist-packages (from transformers<5.0.0,>=3.1.0->sentence-transformers==1.0.4) (2019.12.20)\n",
            "Requirement already satisfied: pyparsing!=3.0.5,>=2.0.2 in /usr/local/lib/python3.7/dist-packages (from packaging>=20.0->transformers<5.0.0,>=3.1.0->sentence-transformers==1.0.4) (3.0.6)\n",
            "Requirement already satisfied: zipp>=0.5 in /usr/local/lib/python3.7/dist-packages (from importlib-metadata->transformers<5.0.0,>=3.1.0->sentence-transformers==1.0.4) (3.6.0)\n",
            "Requirement already satisfied: six in /usr/local/lib/python3.7/dist-packages (from nltk->sentence-transformers==1.0.4) (1.15.0)\n",
            "Requirement already satisfied: idna<3,>=2.5 in /usr/local/lib/python3.7/dist-packages (from requests->transformers<5.0.0,>=3.1.0->sentence-transformers==1.0.4) (2.10)\n",
            "Requirement already satisfied: certifi>=2017.4.17 in /usr/local/lib/python3.7/dist-packages (from requests->transformers<5.0.0,>=3.1.0->sentence-transformers==1.0.4) (2021.10.8)\n",
            "Requirement already satisfied: chardet<4,>=3.0.2 in /usr/local/lib/python3.7/dist-packages (from requests->transformers<5.0.0,>=3.1.0->sentence-transformers==1.0.4) (3.0.4)\n",
            "Requirement already satisfied: urllib3!=1.25.0,!=1.25.1,<1.26,>=1.21.1 in /usr/local/lib/python3.7/dist-packages (from requests->transformers<5.0.0,>=3.1.0->sentence-transformers==1.0.4) (1.24.3)\n",
            "Requirement already satisfied: click in /usr/local/lib/python3.7/dist-packages (from sacremoses->transformers<5.0.0,>=3.1.0->sentence-transformers==1.0.4) (7.1.2)\n",
            "Requirement already satisfied: joblib in /usr/local/lib/python3.7/dist-packages (from sacremoses->transformers<5.0.0,>=3.1.0->sentence-transformers==1.0.4) (1.1.0)\n",
            "Requirement already satisfied: threadpoolctl>=2.0.0 in /usr/local/lib/python3.7/dist-packages (from scikit-learn->sentence-transformers==1.0.4) (3.0.0)\n",
            "Building wheels for collected packages: sentence-transformers\n",
            "  Building wheel for sentence-transformers (setup.py) ... \u001b[?25l\u001b[?25hdone\n",
            "  Created wheel for sentence-transformers: filename=sentence_transformers-1.0.4-py3-none-any.whl size=114306 sha256=76455e4f12c9c28e435421858d73cfa0a868d0ff184ed89bb9826d2c110d5f2e\n",
            "  Stored in directory: /root/.cache/pip/wheels/36/29/9e/1d73f2751adb27f61c414d2656cef08c8353b9ad7cb7f149ef\n",
            "Successfully built sentence-transformers\n",
            "Installing collected packages: pyyaml, tokenizers, sacremoses, huggingface-hub, transformers, sentencepiece, sentence-transformers\n",
            "  Attempting uninstall: pyyaml\n",
            "    Found existing installation: PyYAML 3.13\n",
            "    Uninstalling PyYAML-3.13:\n",
            "      Successfully uninstalled PyYAML-3.13\n",
            "Successfully installed huggingface-hub-0.1.2 pyyaml-6.0 sacremoses-0.0.46 sentence-transformers-1.0.4 sentencepiece-0.1.96 tokenizers-0.10.3 transformers-4.12.5\n"
          ]
        }
      ]
    },
    {
      "cell_type": "code",
      "metadata": {
        "id": "4aaqyH_KZDNJ"
      },
      "source": [
        "from sentence_transformers import SentenceTransformer"
      ],
      "execution_count": 9,
      "outputs": []
    },
    {
      "cell_type": "code",
      "metadata": {
        "id": "sZK4rK_wZFhZ"
      },
      "source": [
        "def sentence_embedding(txts):\n",
        "\n",
        "  model = SentenceTransformer('distiluse-base-multilingual-cased')\n",
        "\n",
        "  sentences =[]\n",
        "\n",
        "  for txt in txts:\n",
        "    txt.replace('\\\\\\\\t', ' ')\n",
        "    txt.replace('\\\\\\\\r', ' ')\n",
        "    txt.replace('\\\\\\\\n',' ')\n",
        "    txt.replace('\\\\t', ' ')\n",
        "    txt.replace('\\\\r', ' ')\n",
        "    txt.replace('\\\\n',' ')\n",
        "    txt.replace('\\t', ' ')\n",
        "    txt.replace('\\r', ' ')\n",
        "    txt.replace('\\n',' ')\n",
        "    sentences.append(txt)\n",
        "\n",
        "  sentence_embeddings = model.encode(sentences)\n",
        "\n",
        "  return sentence_embeddings "
      ],
      "execution_count": 10,
      "outputs": []
    },
    {
      "cell_type": "markdown",
      "metadata": {
        "id": "YaNbGGROYq_w"
      },
      "source": [
        "# Density Information"
      ]
    },
    {
      "cell_type": "code",
      "metadata": {
        "id": "akHpCfbOYvhS"
      },
      "source": [
        "from sklearn.cluster import KMeans\n",
        "from sklearn.metrics import silhouette_samples, silhouette_score\n",
        "import numpy as np \n",
        "\n",
        "def return_density_inf(l_kmeans, df_train, df_new):\n",
        "    l_x_new = []\n",
        "\n",
        "    len_train = len(df_train)\n",
        "    len_new = len(df_new)\n",
        "\n",
        "    for kmeans in l_kmeans:\n",
        "        x_new_temp = []\n",
        "\n",
        "        dfs = np.concatenate([df_train, df_new])\n",
        "        labels = np.concatenate([kmeans.labels_, kmeans.predict(df_new.astype('float64'))])\n",
        "          \n",
        "        silho = silhouette_samples(dfs, labels).reshape(len_train + len_new, 1)\n",
        "        l_x_new.append(silho[len_train:])\n",
        "\n",
        "    return np.concatenate(l_x_new, axis=1)"
      ],
      "execution_count": 28,
      "outputs": []
    },
    {
      "cell_type": "markdown",
      "metadata": {
        "id": "xdyNNJ3ZZXxb"
      },
      "source": [
        "# DEMO"
      ]
    },
    {
      "cell_type": "code",
      "metadata": {
        "id": "NcpDQP5kZaED"
      },
      "source": [
        "inputs = [\n",
        "          'this is a real news',\n",
        "          'essa é uma noticia falsa sobre o bolsonaro',\n",
        "          'essa aqui é outra noticia falsa que fala sobre politica'\n",
        "]"
      ],
      "execution_count": 33,
      "outputs": []
    },
    {
      "cell_type": "code",
      "metadata": {
        "id": "25w2fOzSZe8U"
      },
      "source": [
        "embeddings_DBERTML = sentence_embedding(inputs)"
      ],
      "execution_count": 34,
      "outputs": []
    },
    {
      "cell_type": "code",
      "metadata": {
        "id": "1q4xzB3BZkcT"
      },
      "source": [
        "densities = return_density_inf(l_kmeans, df_train, np.array(embeddings_DBERTML))"
      ],
      "execution_count": 35,
      "outputs": []
    },
    {
      "cell_type": "code",
      "metadata": {
        "id": "yaCquSybaH-h"
      },
      "source": [
        "embeddings_BiVae, _, _ = bi_vae_density.predict([embeddings_DBERTML,densities]) "
      ],
      "execution_count": 36,
      "outputs": []
    },
    {
      "cell_type": "code",
      "metadata": {
        "id": "taZ59JrzabVg"
      },
      "source": [
        "predictions = ocsvm.predict(embeddings_BiVae)"
      ],
      "execution_count": 37,
      "outputs": []
    },
    {
      "cell_type": "markdown",
      "metadata": {
        "id": "EZuxTw_Cam33"
      },
      "source": [
        "**1 for fake news and -1 for real news**"
      ]
    },
    {
      "cell_type": "code",
      "metadata": {
        "colab": {
          "base_uri": "https://localhost:8080/"
        },
        "id": "dUkWNG0wamFo",
        "outputId": "35b7e6aa-e9fc-4026-acc4-8c36f07bf000"
      },
      "source": [
        "predictions"
      ],
      "execution_count": 38,
      "outputs": [
        {
          "output_type": "execute_result",
          "data": {
            "text/plain": [
              "array([-1,  1,  1])"
            ]
          },
          "metadata": {},
          "execution_count": 38
        }
      ]
    }
  ]
}