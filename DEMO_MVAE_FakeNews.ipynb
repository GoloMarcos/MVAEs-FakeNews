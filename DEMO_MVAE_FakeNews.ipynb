{
  "nbformat": 4,
  "nbformat_minor": 0,
  "metadata": {
    "colab": {
      "name": "DEMO-MVAE-FakeNews.ipynb",
      "provenance": []
    },
    "kernelspec": {
      "name": "python3",
      "display_name": "Python 3"
    },
    "language_info": {
      "name": "python"
    },
    "accelerator": "GPU"
  },
  "cells": [
    {
      "cell_type": "markdown",
      "metadata": {
        "id": "oVo_gxxRWltr"
      },
      "source": [
        "# Load Models"
      ]
    },
    {
      "cell_type": "code",
      "metadata": {
        "colab": {
          "base_uri": "https://localhost:8080/"
        },
        "id": "gF3DzoaEVPlG",
        "outputId": "70bda03f-402f-4502-a4da-26086a7902df"
      },
      "source": [
        "!gdown --id 1Nrj3gi-ENBwsEqjsGB68pWGrQI8fFWC6"
      ],
      "execution_count": 4,
      "outputs": [
        {
          "output_type": "stream",
          "name": "stdout",
          "text": [
            "Downloading...\n",
            "From: https://drive.google.com/uc?id=1Nrj3gi-ENBwsEqjsGB68pWGrQI8fFWC6\n",
            "To: /content/DEMO.zip\n",
            "100% 213M/213M [00:02<00:00, 86.0MB/s]\n"
          ]
        }
      ]
    },
    {
      "cell_type": "code",
      "metadata": {
        "colab": {
          "base_uri": "https://localhost:8080/"
        },
        "id": "GjoPfGFRWFwJ",
        "outputId": "5cf3b129-bdba-4a5a-d002-96be116bbedb"
      },
      "source": [
        "!unzip DEMO.zip"
      ],
      "execution_count": 5,
      "outputs": [
        {
          "output_type": "stream",
          "name": "stdout",
          "text": [
            "Archive:  DEMO.zip\n",
            "   creating: DEMO/\n",
            "  inflating: DEMO/fake_news_of_train.pkl  \n",
            "  inflating: DEMO/kmeans_15.pkl      \n",
            "  inflating: DEMO/kmeans_14.pkl      \n",
            "  inflating: DEMO/kmeans_10.pkl      \n",
            "  inflating: DEMO/kmeans_11.pkl      \n",
            "  inflating: DEMO/kmeans_12.pkl      \n",
            "  inflating: DEMO/kmeans_13.pkl      \n",
            "  inflating: DEMO/Encoder_Bi-Vae-Density.zip  \n"
          ]
        }
      ]
    },
    {
      "cell_type": "code",
      "metadata": {
        "colab": {
          "base_uri": "https://localhost:8080/"
        },
        "id": "FCaRw-lNXuiD",
        "outputId": "d35d138e-3781-4827-a535-37776f0831ec"
      },
      "source": [
        "!unzip DEMO/Encoder_Bi-Vae-Density.zip"
      ],
      "execution_count": 6,
      "outputs": [
        {
          "output_type": "stream",
          "name": "stdout",
          "text": [
            "Archive:  DEMO/Encoder_Bi-Vae-Density.zip\n",
            "   creating: Encoder_Bi-Vae-Density/\n",
            "  inflating: Encoder_Bi-Vae-Density/saved_model.pb  \n",
            "  inflating: Encoder_Bi-Vae-Density/keras_metadata.pb  \n",
            "   creating: Encoder_Bi-Vae-Density/assets/\n",
            "   creating: Encoder_Bi-Vae-Density/variables/\n",
            "  inflating: Encoder_Bi-Vae-Density/variables/variables.index  \n",
            "  inflating: Encoder_Bi-Vae-Density/variables/variables.data-00000-of-00001  \n"
          ]
        }
      ]
    },
    {
      "cell_type": "markdown",
      "metadata": {
        "id": "7onrE--KYCm1"
      },
      "source": [
        "## Load Bi-VAE-Density"
      ]
    },
    {
      "cell_type": "code",
      "metadata": {
        "colab": {
          "base_uri": "https://localhost:8080/"
        },
        "id": "IdC2lkJJXzQe",
        "outputId": "8af7385c-cf0a-4b9c-da2e-15c226cbac20"
      },
      "source": [
        "import tensorflow as tf\n",
        "\n",
        "bi_vae_density = tf.keras.models.load_model('Encoder_Bi-Vae-Density')"
      ],
      "execution_count": 7,
      "outputs": [
        {
          "output_type": "stream",
          "name": "stdout",
          "text": [
            "WARNING:tensorflow:No training configuration found in save file, so the model was *not* compiled. Compile it manually.\n"
          ]
        }
      ]
    },
    {
      "cell_type": "markdown",
      "metadata": {
        "id": "i9C9yxfLYYav"
      },
      "source": [
        "## Load Kmeans"
      ]
    },
    {
      "cell_type": "code",
      "metadata": {
        "id": "Pk9nz79NWG6z"
      },
      "source": [
        "import pickle\n",
        "\n",
        "l_kmeans = []\n",
        "\n",
        "for i in range(6):\n",
        "  with open('DEMO/kmeans_1' + str(i) + '.pkl', 'rb') as file:\n",
        "    l_kmeans.append(pickle.load(file))"
      ],
      "execution_count": 8,
      "outputs": []
    },
    {
      "cell_type": "markdown",
      "metadata": {
        "id": "BXkdSoK9YdA3"
      },
      "source": [
        "## Load fake news of train"
      ]
    },
    {
      "cell_type": "code",
      "metadata": {
        "id": "FNnhXDN_XVz0"
      },
      "source": [
        "import pandas as pd\n",
        "import numpy as np\n",
        "df_fk_train = pd.read_pickle('DEMO/fake_news_of_train.pkl')\n",
        "df_train = np.array(df_fk_train['DistilBERT Multilingua'].to_list())"
      ],
      "execution_count": 9,
      "outputs": []
    },
    {
      "cell_type": "markdown",
      "metadata": {
        "id": "hyt5qbFwY5oQ"
      },
      "source": [
        "# DBERTML Embeddings (USE GPU)"
      ]
    },
    {
      "cell_type": "code",
      "metadata": {
        "colab": {
          "base_uri": "https://localhost:8080/"
        },
        "id": "B9AhWdJiY5C5",
        "outputId": "2ea8a021-e73f-4152-f584-1a97b840f349"
      },
      "source": [
        "!pip install sentence-transformers==1.0.4 #version used in the fake news collections"
      ],
      "execution_count": 10,
      "outputs": [
        {
          "output_type": "stream",
          "name": "stdout",
          "text": [
            "Collecting sentence-transformers==1.0.4\n",
            "  Downloading sentence-transformers-1.0.4.tar.gz (74 kB)\n",
            "\u001b[K     |████████████████████████████████| 74 kB 2.7 MB/s \n",
            "\u001b[?25hCollecting transformers<5.0.0,>=3.1.0\n",
            "  Downloading transformers-4.12.5-py3-none-any.whl (3.1 MB)\n",
            "\u001b[K     |████████████████████████████████| 3.1 MB 30.1 MB/s \n",
            "\u001b[?25hRequirement already satisfied: tqdm in /usr/local/lib/python3.7/dist-packages (from sentence-transformers==1.0.4) (4.62.3)\n",
            "Requirement already satisfied: torch>=1.6.0 in /usr/local/lib/python3.7/dist-packages (from sentence-transformers==1.0.4) (1.10.0+cu111)\n",
            "Requirement already satisfied: numpy in /usr/local/lib/python3.7/dist-packages (from sentence-transformers==1.0.4) (1.19.5)\n",
            "Requirement already satisfied: scikit-learn in /usr/local/lib/python3.7/dist-packages (from sentence-transformers==1.0.4) (1.0.1)\n",
            "Requirement already satisfied: scipy in /usr/local/lib/python3.7/dist-packages (from sentence-transformers==1.0.4) (1.4.1)\n",
            "Requirement already satisfied: nltk in /usr/local/lib/python3.7/dist-packages (from sentence-transformers==1.0.4) (3.2.5)\n",
            "Collecting sentencepiece\n",
            "  Downloading sentencepiece-0.1.96-cp37-cp37m-manylinux_2_17_x86_64.manylinux2014_x86_64.whl (1.2 MB)\n",
            "\u001b[K     |████████████████████████████████| 1.2 MB 39.1 MB/s \n",
            "\u001b[?25hRequirement already satisfied: typing-extensions in /usr/local/lib/python3.7/dist-packages (from torch>=1.6.0->sentence-transformers==1.0.4) (3.10.0.2)\n",
            "Requirement already satisfied: importlib-metadata in /usr/local/lib/python3.7/dist-packages (from transformers<5.0.0,>=3.1.0->sentence-transformers==1.0.4) (4.8.2)\n",
            "Requirement already satisfied: regex!=2019.12.17 in /usr/local/lib/python3.7/dist-packages (from transformers<5.0.0,>=3.1.0->sentence-transformers==1.0.4) (2019.12.20)\n",
            "Collecting huggingface-hub<1.0,>=0.1.0\n",
            "  Downloading huggingface_hub-0.2.1-py3-none-any.whl (61 kB)\n",
            "\u001b[K     |████████████████████████████████| 61 kB 440 kB/s \n",
            "\u001b[?25hCollecting sacremoses\n",
            "  Downloading sacremoses-0.0.46-py3-none-any.whl (895 kB)\n",
            "\u001b[K     |████████████████████████████████| 895 kB 42.1 MB/s \n",
            "\u001b[?25hCollecting tokenizers<0.11,>=0.10.1\n",
            "  Downloading tokenizers-0.10.3-cp37-cp37m-manylinux_2_5_x86_64.manylinux1_x86_64.manylinux_2_12_x86_64.manylinux2010_x86_64.whl (3.3 MB)\n",
            "\u001b[K     |████████████████████████████████| 3.3 MB 49.0 MB/s \n",
            "\u001b[?25hCollecting pyyaml>=5.1\n",
            "  Downloading PyYAML-6.0-cp37-cp37m-manylinux_2_5_x86_64.manylinux1_x86_64.manylinux_2_12_x86_64.manylinux2010_x86_64.whl (596 kB)\n",
            "\u001b[K     |████████████████████████████████| 596 kB 47.9 MB/s \n",
            "\u001b[?25hRequirement already satisfied: filelock in /usr/local/lib/python3.7/dist-packages (from transformers<5.0.0,>=3.1.0->sentence-transformers==1.0.4) (3.4.0)\n",
            "Requirement already satisfied: requests in /usr/local/lib/python3.7/dist-packages (from transformers<5.0.0,>=3.1.0->sentence-transformers==1.0.4) (2.23.0)\n",
            "Requirement already satisfied: packaging>=20.0 in /usr/local/lib/python3.7/dist-packages (from transformers<5.0.0,>=3.1.0->sentence-transformers==1.0.4) (21.3)\n",
            "Requirement already satisfied: pyparsing!=3.0.5,>=2.0.2 in /usr/local/lib/python3.7/dist-packages (from packaging>=20.0->transformers<5.0.0,>=3.1.0->sentence-transformers==1.0.4) (3.0.6)\n",
            "Requirement already satisfied: zipp>=0.5 in /usr/local/lib/python3.7/dist-packages (from importlib-metadata->transformers<5.0.0,>=3.1.0->sentence-transformers==1.0.4) (3.6.0)\n",
            "Requirement already satisfied: six in /usr/local/lib/python3.7/dist-packages (from nltk->sentence-transformers==1.0.4) (1.15.0)\n",
            "Requirement already satisfied: chardet<4,>=3.0.2 in /usr/local/lib/python3.7/dist-packages (from requests->transformers<5.0.0,>=3.1.0->sentence-transformers==1.0.4) (3.0.4)\n",
            "Requirement already satisfied: certifi>=2017.4.17 in /usr/local/lib/python3.7/dist-packages (from requests->transformers<5.0.0,>=3.1.0->sentence-transformers==1.0.4) (2021.10.8)\n",
            "Requirement already satisfied: idna<3,>=2.5 in /usr/local/lib/python3.7/dist-packages (from requests->transformers<5.0.0,>=3.1.0->sentence-transformers==1.0.4) (2.10)\n",
            "Requirement already satisfied: urllib3!=1.25.0,!=1.25.1,<1.26,>=1.21.1 in /usr/local/lib/python3.7/dist-packages (from requests->transformers<5.0.0,>=3.1.0->sentence-transformers==1.0.4) (1.24.3)\n",
            "Requirement already satisfied: joblib in /usr/local/lib/python3.7/dist-packages (from sacremoses->transformers<5.0.0,>=3.1.0->sentence-transformers==1.0.4) (1.1.0)\n",
            "Requirement already satisfied: click in /usr/local/lib/python3.7/dist-packages (from sacremoses->transformers<5.0.0,>=3.1.0->sentence-transformers==1.0.4) (7.1.2)\n",
            "Requirement already satisfied: threadpoolctl>=2.0.0 in /usr/local/lib/python3.7/dist-packages (from scikit-learn->sentence-transformers==1.0.4) (3.0.0)\n",
            "Building wheels for collected packages: sentence-transformers\n",
            "  Building wheel for sentence-transformers (setup.py) ... \u001b[?25l\u001b[?25hdone\n",
            "  Created wheel for sentence-transformers: filename=sentence_transformers-1.0.4-py3-none-any.whl size=114306 sha256=b25dd44106b77fd86a0b83975153ffed46e453e1c90964af99fa654ea17a7d4d\n",
            "  Stored in directory: /root/.cache/pip/wheels/36/29/9e/1d73f2751adb27f61c414d2656cef08c8353b9ad7cb7f149ef\n",
            "Successfully built sentence-transformers\n",
            "Installing collected packages: pyyaml, tokenizers, sacremoses, huggingface-hub, transformers, sentencepiece, sentence-transformers\n",
            "  Attempting uninstall: pyyaml\n",
            "    Found existing installation: PyYAML 3.13\n",
            "    Uninstalling PyYAML-3.13:\n",
            "      Successfully uninstalled PyYAML-3.13\n",
            "Successfully installed huggingface-hub-0.2.1 pyyaml-6.0 sacremoses-0.0.46 sentence-transformers-1.0.4 sentencepiece-0.1.96 tokenizers-0.10.3 transformers-4.12.5\n"
          ]
        }
      ]
    },
    {
      "cell_type": "code",
      "metadata": {
        "id": "4aaqyH_KZDNJ"
      },
      "source": [
        "from sentence_transformers import SentenceTransformer"
      ],
      "execution_count": 11,
      "outputs": []
    },
    {
      "cell_type": "code",
      "metadata": {
        "id": "sZK4rK_wZFhZ"
      },
      "source": [
        "def sentence_embedding(txts):\n",
        "\n",
        "  model = SentenceTransformer('distiluse-base-multilingual-cased')\n",
        "\n",
        "  sentences =[]\n",
        "\n",
        "  for txt in txts:\n",
        "    txt.replace('\\\\\\\\t', ' ')\n",
        "    txt.replace('\\\\\\\\r', ' ')\n",
        "    txt.replace('\\\\\\\\n',' ')\n",
        "    txt.replace('\\\\t', ' ')\n",
        "    txt.replace('\\\\r', ' ')\n",
        "    txt.replace('\\\\n',' ')\n",
        "    txt.replace('\\t', ' ')\n",
        "    txt.replace('\\r', ' ')\n",
        "    txt.replace('\\n',' ')\n",
        "    sentences.append(txt)\n",
        "\n",
        "  sentence_embeddings = model.encode(sentences)\n",
        "\n",
        "  return sentence_embeddings "
      ],
      "execution_count": 12,
      "outputs": []
    },
    {
      "cell_type": "markdown",
      "metadata": {
        "id": "YaNbGGROYq_w"
      },
      "source": [
        "# Density Information"
      ]
    },
    {
      "cell_type": "code",
      "metadata": {
        "id": "akHpCfbOYvhS"
      },
      "source": [
        "from sklearn.cluster import KMeans\n",
        "from sklearn.metrics import silhouette_samples, silhouette_score\n",
        "import numpy as np \n",
        "\n",
        "def return_density_inf(l_kmeans, df_train, df_new):\n",
        "    l_x_new = []\n",
        "\n",
        "    len_train = len(df_train)\n",
        "    len_new = len(df_new)\n",
        "\n",
        "    for kmeans in l_kmeans:\n",
        "        x_new_temp = []\n",
        "\n",
        "        dfs = np.concatenate([df_train, df_new])\n",
        "        labels = np.concatenate([kmeans.labels_, kmeans.predict(df_new.astype('float64'))])\n",
        "          \n",
        "        silho = silhouette_samples(dfs, labels).reshape(len_train + len_new, 1)\n",
        "        l_x_new.append(silho[len_train:])\n",
        "\n",
        "    return np.concatenate(l_x_new, axis=1)"
      ],
      "execution_count": 13,
      "outputs": []
    },
    {
      "cell_type": "markdown",
      "metadata": {
        "id": "xdyNNJ3ZZXxb"
      },
      "source": [
        "# DEMO"
      ]
    },
    {
      "cell_type": "code",
      "metadata": {
        "id": "NcpDQP5kZaED"
      },
      "source": [
        "inputs = [\n",
        "          'The GOLD price was related to Brexit'\n",
        "]"
      ],
      "execution_count": 73,
      "outputs": []
    },
    {
      "cell_type": "code",
      "metadata": {
        "id": "25w2fOzSZe8U"
      },
      "source": [
        "embeddings_DBERTML = sentence_embedding(inputs)"
      ],
      "execution_count": 74,
      "outputs": []
    },
    {
      "cell_type": "code",
      "metadata": {
        "id": "1q4xzB3BZkcT"
      },
      "source": [
        "densities = return_density_inf(l_kmeans, df_train, np.array(embeddings_DBERTML))"
      ],
      "execution_count": 75,
      "outputs": []
    },
    {
      "cell_type": "code",
      "metadata": {
        "id": "yaCquSybaH-h"
      },
      "source": [
        "embeddings_BiVae, _, _ = bi_vae_density.predict([embeddings_DBERTML,densities]) "
      ],
      "execution_count": 76,
      "outputs": []
    },
    {
      "cell_type": "markdown",
      "source": [
        "# Top 5 texts most similars"
      ],
      "metadata": {
        "id": "xK8JZCB6B22P"
      }
    },
    {
      "cell_type": "code",
      "source": [
        "densities_train = return_density_inf(l_kmeans, df_train, df_train)\n",
        "embeddings_train, _, _ = bi_vae_density.predict([df_train,densities_train]) "
      ],
      "metadata": {
        "id": "3TodykUiDr5B"
      },
      "execution_count": 21,
      "outputs": []
    },
    {
      "cell_type": "code",
      "source": [
        "df_bests = df_fk_train\n",
        "df_bests['Embeddings_BiVAE_D'] = list(embeddings_train)"
      ],
      "metadata": {
        "id": "sbxdlyljEDGp"
      },
      "execution_count": 32,
      "outputs": []
    },
    {
      "cell_type": "code",
      "source": [
        "from scipy.spatial import distance"
      ],
      "metadata": {
        "id": "eUuPe1rlB9Cm"
      },
      "execution_count": 77,
      "outputs": []
    },
    {
      "cell_type": "code",
      "source": [
        "embedding_top10 = embeddings_BiVae[0]"
      ],
      "metadata": {
        "id": "fMdcf-o0EnKd"
      },
      "execution_count": 78,
      "outputs": []
    },
    {
      "cell_type": "code",
      "source": [
        "l_dist = []\n",
        "for item,row in df_bests.iterrows():\n",
        "  l_dist.append(distance.cosine(embedding_top10, row['Embeddings_BiVAE_D']))\n",
        "\n",
        "df_bests['cosine_distance'] = l_dist"
      ],
      "metadata": {
        "id": "GSfI-SySCkJF"
      },
      "execution_count": 79,
      "outputs": []
    },
    {
      "cell_type": "code",
      "source": [
        "df_bests.sort_values(by='cosine_distance')[['text','class','cosine_distance']].head(5)"
      ],
      "metadata": {
        "colab": {
          "base_uri": "https://localhost:8080/",
          "height": 206
        },
        "id": "rChh5FpNE1Af",
        "outputId": "c84207ea-1998-4a33-9c16-b8a5737c03be"
      },
      "execution_count": 80,
      "outputs": [
        {
          "output_type": "execute_result",
          "data": {
            "text/html": [
              "<div>\n",
              "<style scoped>\n",
              "    .dataframe tbody tr th:only-of-type {\n",
              "        vertical-align: middle;\n",
              "    }\n",
              "\n",
              "    .dataframe tbody tr th {\n",
              "        vertical-align: top;\n",
              "    }\n",
              "\n",
              "    .dataframe thead th {\n",
              "        text-align: right;\n",
              "    }\n",
              "</style>\n",
              "<table border=\"1\" class=\"dataframe\">\n",
              "  <thead>\n",
              "    <tr style=\"text-align: right;\">\n",
              "      <th></th>\n",
              "      <th>text</th>\n",
              "      <th>class</th>\n",
              "      <th>cosine_distance</th>\n",
              "    </tr>\n",
              "  </thead>\n",
              "  <tbody>\n",
              "    <tr>\n",
              "      <th>177</th>\n",
              "      <td>GOLD PRICES hit new 17-month highs against the...</td>\n",
              "      <td>1</td>\n",
              "      <td>0.333811</td>\n",
              "    </tr>\n",
              "    <tr>\n",
              "      <th>2041</th>\n",
              "      <td>GOLD PRICES edged higher against a falling US ...</td>\n",
              "      <td>1</td>\n",
              "      <td>0.401644</td>\n",
              "    </tr>\n",
              "    <tr>\n",
              "      <th>1774</th>\n",
              "      <td>While key Western banks are artificially restr...</td>\n",
              "      <td>1</td>\n",
              "      <td>0.414491</td>\n",
              "    </tr>\n",
              "    <tr>\n",
              "      <th>570</th>\n",
              "      <td>GOLD PRICES for Euro, UK and Japanese investor...</td>\n",
              "      <td>1</td>\n",
              "      <td>0.421811</td>\n",
              "    </tr>\n",
              "    <tr>\n",
              "      <th>658</th>\n",
              "      <td>Cameron  Previous Labour Administration To Bla...</td>\n",
              "      <td>1</td>\n",
              "      <td>0.429223</td>\n",
              "    </tr>\n",
              "  </tbody>\n",
              "</table>\n",
              "</div>"
            ],
            "text/plain": [
              "                                                   text class  cosine_distance\n",
              "177   GOLD PRICES hit new 17-month highs against the...     1         0.333811\n",
              "2041  GOLD PRICES edged higher against a falling US ...     1         0.401644\n",
              "1774  While key Western banks are artificially restr...     1         0.414491\n",
              "570   GOLD PRICES for Euro, UK and Japanese investor...     1         0.421811\n",
              "658   Cameron  Previous Labour Administration To Bla...     1         0.429223"
            ]
          },
          "metadata": {},
          "execution_count": 80
        }
      ]
    }
  ]
}