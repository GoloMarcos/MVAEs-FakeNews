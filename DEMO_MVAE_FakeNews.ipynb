{
  "nbformat": 4,
  "nbformat_minor": 0,
  "metadata": {
    "colab": {
      "name": "DEMO-MVAE-FakeNews.ipynb",
      "provenance": []
    },
    "kernelspec": {
      "name": "python3",
      "display_name": "Python 3"
    },
    "language_info": {
      "name": "python"
    },
    "widgets": {
      "application/vnd.jupyter.widget-state+json": {
        "39e7142408fe4cb6b3abbe879eb6a945": {
          "model_module": "@jupyter-widgets/controls",
          "model_name": "HBoxModel",
          "model_module_version": "1.5.0",
          "state": {
            "_view_name": "HBoxView",
            "_dom_classes": [],
            "_model_name": "HBoxModel",
            "_view_module": "@jupyter-widgets/controls",
            "_model_module_version": "1.5.0",
            "_view_count": null,
            "_view_module_version": "1.5.0",
            "box_style": "",
            "layout": "IPY_MODEL_2984df6b3f3c43ce9173748dfa934d54",
            "_model_module": "@jupyter-widgets/controls",
            "children": [
              "IPY_MODEL_b4701f96a0784f5092976e032fa27086",
              "IPY_MODEL_85e1eedf43da405d8b2033668d92d944",
              "IPY_MODEL_5c84d7e7a48f43a28c6792c25f52c595"
            ]
          }
        },
        "2984df6b3f3c43ce9173748dfa934d54": {
          "model_module": "@jupyter-widgets/base",
          "model_name": "LayoutModel",
          "model_module_version": "1.2.0",
          "state": {
            "_view_name": "LayoutView",
            "grid_template_rows": null,
            "right": null,
            "justify_content": null,
            "_view_module": "@jupyter-widgets/base",
            "overflow": null,
            "_model_module_version": "1.2.0",
            "_view_count": null,
            "flex_flow": null,
            "width": null,
            "min_width": null,
            "border": null,
            "align_items": null,
            "bottom": null,
            "_model_module": "@jupyter-widgets/base",
            "top": null,
            "grid_column": null,
            "overflow_y": null,
            "overflow_x": null,
            "grid_auto_flow": null,
            "grid_area": null,
            "grid_template_columns": null,
            "flex": null,
            "_model_name": "LayoutModel",
            "justify_items": null,
            "grid_row": null,
            "max_height": null,
            "align_content": null,
            "visibility": null,
            "align_self": null,
            "height": null,
            "min_height": null,
            "padding": null,
            "grid_auto_rows": null,
            "grid_gap": null,
            "max_width": null,
            "order": null,
            "_view_module_version": "1.2.0",
            "grid_template_areas": null,
            "object_position": null,
            "object_fit": null,
            "grid_auto_columns": null,
            "margin": null,
            "display": null,
            "left": null
          }
        },
        "b4701f96a0784f5092976e032fa27086": {
          "model_module": "@jupyter-widgets/controls",
          "model_name": "HTMLModel",
          "model_module_version": "1.5.0",
          "state": {
            "_view_name": "HTMLView",
            "style": "IPY_MODEL_80e9fb1a5da540c0b1f298ec654a603d",
            "_dom_classes": [],
            "description": "",
            "_model_name": "HTMLModel",
            "placeholder": "​",
            "_view_module": "@jupyter-widgets/controls",
            "_model_module_version": "1.5.0",
            "value": "100%",
            "_view_count": null,
            "_view_module_version": "1.5.0",
            "description_tooltip": null,
            "_model_module": "@jupyter-widgets/controls",
            "layout": "IPY_MODEL_4d2deac9f6d845d59ef48ec462b8f4b2"
          }
        },
        "85e1eedf43da405d8b2033668d92d944": {
          "model_module": "@jupyter-widgets/controls",
          "model_name": "FloatProgressModel",
          "model_module_version": "1.5.0",
          "state": {
            "_view_name": "ProgressView",
            "style": "IPY_MODEL_9fc5a43fbdcc4f4dab99ca5fd2d39c45",
            "_dom_classes": [],
            "description": "",
            "_model_name": "FloatProgressModel",
            "bar_style": "success",
            "max": 503702349,
            "_view_module": "@jupyter-widgets/controls",
            "_model_module_version": "1.5.0",
            "value": 503702349,
            "_view_count": null,
            "_view_module_version": "1.5.0",
            "orientation": "horizontal",
            "min": 0,
            "description_tooltip": null,
            "_model_module": "@jupyter-widgets/controls",
            "layout": "IPY_MODEL_db4c852d8c3e4b9ab6860e6e4bef595b"
          }
        },
        "5c84d7e7a48f43a28c6792c25f52c595": {
          "model_module": "@jupyter-widgets/controls",
          "model_name": "HTMLModel",
          "model_module_version": "1.5.0",
          "state": {
            "_view_name": "HTMLView",
            "style": "IPY_MODEL_370208df36ec4dfe8709339834db4cde",
            "_dom_classes": [],
            "description": "",
            "_model_name": "HTMLModel",
            "placeholder": "​",
            "_view_module": "@jupyter-widgets/controls",
            "_model_module_version": "1.5.0",
            "value": " 504M/504M [00:21&lt;00:00, 27.9MB/s]",
            "_view_count": null,
            "_view_module_version": "1.5.0",
            "description_tooltip": null,
            "_model_module": "@jupyter-widgets/controls",
            "layout": "IPY_MODEL_5cd21cfe76914bc794a2eff387df69aa"
          }
        },
        "80e9fb1a5da540c0b1f298ec654a603d": {
          "model_module": "@jupyter-widgets/controls",
          "model_name": "DescriptionStyleModel",
          "model_module_version": "1.5.0",
          "state": {
            "_view_name": "StyleView",
            "_model_name": "DescriptionStyleModel",
            "description_width": "",
            "_view_module": "@jupyter-widgets/base",
            "_model_module_version": "1.5.0",
            "_view_count": null,
            "_view_module_version": "1.2.0",
            "_model_module": "@jupyter-widgets/controls"
          }
        },
        "4d2deac9f6d845d59ef48ec462b8f4b2": {
          "model_module": "@jupyter-widgets/base",
          "model_name": "LayoutModel",
          "model_module_version": "1.2.0",
          "state": {
            "_view_name": "LayoutView",
            "grid_template_rows": null,
            "right": null,
            "justify_content": null,
            "_view_module": "@jupyter-widgets/base",
            "overflow": null,
            "_model_module_version": "1.2.0",
            "_view_count": null,
            "flex_flow": null,
            "width": null,
            "min_width": null,
            "border": null,
            "align_items": null,
            "bottom": null,
            "_model_module": "@jupyter-widgets/base",
            "top": null,
            "grid_column": null,
            "overflow_y": null,
            "overflow_x": null,
            "grid_auto_flow": null,
            "grid_area": null,
            "grid_template_columns": null,
            "flex": null,
            "_model_name": "LayoutModel",
            "justify_items": null,
            "grid_row": null,
            "max_height": null,
            "align_content": null,
            "visibility": null,
            "align_self": null,
            "height": null,
            "min_height": null,
            "padding": null,
            "grid_auto_rows": null,
            "grid_gap": null,
            "max_width": null,
            "order": null,
            "_view_module_version": "1.2.0",
            "grid_template_areas": null,
            "object_position": null,
            "object_fit": null,
            "grid_auto_columns": null,
            "margin": null,
            "display": null,
            "left": null
          }
        },
        "9fc5a43fbdcc4f4dab99ca5fd2d39c45": {
          "model_module": "@jupyter-widgets/controls",
          "model_name": "ProgressStyleModel",
          "model_module_version": "1.5.0",
          "state": {
            "_view_name": "StyleView",
            "_model_name": "ProgressStyleModel",
            "description_width": "",
            "_view_module": "@jupyter-widgets/base",
            "_model_module_version": "1.5.0",
            "_view_count": null,
            "_view_module_version": "1.2.0",
            "bar_color": null,
            "_model_module": "@jupyter-widgets/controls"
          }
        },
        "db4c852d8c3e4b9ab6860e6e4bef595b": {
          "model_module": "@jupyter-widgets/base",
          "model_name": "LayoutModel",
          "model_module_version": "1.2.0",
          "state": {
            "_view_name": "LayoutView",
            "grid_template_rows": null,
            "right": null,
            "justify_content": null,
            "_view_module": "@jupyter-widgets/base",
            "overflow": null,
            "_model_module_version": "1.2.0",
            "_view_count": null,
            "flex_flow": null,
            "width": null,
            "min_width": null,
            "border": null,
            "align_items": null,
            "bottom": null,
            "_model_module": "@jupyter-widgets/base",
            "top": null,
            "grid_column": null,
            "overflow_y": null,
            "overflow_x": null,
            "grid_auto_flow": null,
            "grid_area": null,
            "grid_template_columns": null,
            "flex": null,
            "_model_name": "LayoutModel",
            "justify_items": null,
            "grid_row": null,
            "max_height": null,
            "align_content": null,
            "visibility": null,
            "align_self": null,
            "height": null,
            "min_height": null,
            "padding": null,
            "grid_auto_rows": null,
            "grid_gap": null,
            "max_width": null,
            "order": null,
            "_view_module_version": "1.2.0",
            "grid_template_areas": null,
            "object_position": null,
            "object_fit": null,
            "grid_auto_columns": null,
            "margin": null,
            "display": null,
            "left": null
          }
        },
        "370208df36ec4dfe8709339834db4cde": {
          "model_module": "@jupyter-widgets/controls",
          "model_name": "DescriptionStyleModel",
          "model_module_version": "1.5.0",
          "state": {
            "_view_name": "StyleView",
            "_model_name": "DescriptionStyleModel",
            "description_width": "",
            "_view_module": "@jupyter-widgets/base",
            "_model_module_version": "1.5.0",
            "_view_count": null,
            "_view_module_version": "1.2.0",
            "_model_module": "@jupyter-widgets/controls"
          }
        },
        "5cd21cfe76914bc794a2eff387df69aa": {
          "model_module": "@jupyter-widgets/base",
          "model_name": "LayoutModel",
          "model_module_version": "1.2.0",
          "state": {
            "_view_name": "LayoutView",
            "grid_template_rows": null,
            "right": null,
            "justify_content": null,
            "_view_module": "@jupyter-widgets/base",
            "overflow": null,
            "_model_module_version": "1.2.0",
            "_view_count": null,
            "flex_flow": null,
            "width": null,
            "min_width": null,
            "border": null,
            "align_items": null,
            "bottom": null,
            "_model_module": "@jupyter-widgets/base",
            "top": null,
            "grid_column": null,
            "overflow_y": null,
            "overflow_x": null,
            "grid_auto_flow": null,
            "grid_area": null,
            "grid_template_columns": null,
            "flex": null,
            "_model_name": "LayoutModel",
            "justify_items": null,
            "grid_row": null,
            "max_height": null,
            "align_content": null,
            "visibility": null,
            "align_self": null,
            "height": null,
            "min_height": null,
            "padding": null,
            "grid_auto_rows": null,
            "grid_gap": null,
            "max_width": null,
            "order": null,
            "_view_module_version": "1.2.0",
            "grid_template_areas": null,
            "object_position": null,
            "object_fit": null,
            "grid_auto_columns": null,
            "margin": null,
            "display": null,
            "left": null
          }
        }
      }
    }
  },
  "cells": [
    {
      "cell_type": "markdown",
      "metadata": {
        "id": "oVo_gxxRWltr"
      },
      "source": [
        "# Load Models"
      ]
    },
    {
      "cell_type": "code",
      "metadata": {
        "colab": {
          "base_uri": "https://localhost:8080/"
        },
        "id": "gF3DzoaEVPlG",
        "outputId": "1cf995c6-2ae0-4e71-8f26-b508975197b3"
      },
      "source": [
        "!gdown --id 1Nrj3gi-ENBwsEqjsGB68pWGrQI8fFWC6"
      ],
      "execution_count": null,
      "outputs": [
        {
          "output_type": "stream",
          "name": "stdout",
          "text": [
            "Downloading...\n",
            "From: https://drive.google.com/uc?id=1Nrj3gi-ENBwsEqjsGB68pWGrQI8fFWC6\n",
            "To: /content/DEMO.zip\n",
            "100% 213M/213M [00:03<00:00, 66.0MB/s]\n"
          ]
        }
      ]
    },
    {
      "cell_type": "code",
      "metadata": {
        "colab": {
          "base_uri": "https://localhost:8080/"
        },
        "id": "GjoPfGFRWFwJ",
        "outputId": "79388baf-e71c-4335-9344-bb6e8d30ed46"
      },
      "source": [
        "!unzip DEMO.zip"
      ],
      "execution_count": null,
      "outputs": [
        {
          "output_type": "stream",
          "name": "stdout",
          "text": [
            "Archive:  DEMO.zip\n",
            "   creating: DEMO/\n",
            "  inflating: DEMO/fake_news_of_train.pkl  \n",
            "  inflating: DEMO/kmeans_15.pkl      \n",
            "  inflating: DEMO/kmeans_14.pkl      \n",
            "  inflating: DEMO/kmeans_10.pkl      \n",
            "  inflating: DEMO/kmeans_11.pkl      \n",
            "  inflating: DEMO/kmeans_12.pkl      \n",
            "  inflating: DEMO/kmeans_13.pkl      \n",
            "  inflating: DEMO/Encoder_Bi-Vae-Density.zip  \n"
          ]
        }
      ]
    },
    {
      "cell_type": "code",
      "metadata": {
        "colab": {
          "base_uri": "https://localhost:8080/"
        },
        "id": "FCaRw-lNXuiD",
        "outputId": "a602797c-4380-4508-f4cf-544e81795563"
      },
      "source": [
        "!unzip DEMO/Encoder_Bi-Vae-Density.zip"
      ],
      "execution_count": null,
      "outputs": [
        {
          "output_type": "stream",
          "name": "stdout",
          "text": [
            "Archive:  DEMO/Encoder_Bi-Vae-Density.zip\n",
            "   creating: Encoder_Bi-Vae-Density/\n",
            "  inflating: Encoder_Bi-Vae-Density/saved_model.pb  \n",
            "  inflating: Encoder_Bi-Vae-Density/keras_metadata.pb  \n",
            "   creating: Encoder_Bi-Vae-Density/assets/\n",
            "   creating: Encoder_Bi-Vae-Density/variables/\n",
            "  inflating: Encoder_Bi-Vae-Density/variables/variables.index  \n",
            "  inflating: Encoder_Bi-Vae-Density/variables/variables.data-00000-of-00001  \n"
          ]
        }
      ]
    },
    {
      "cell_type": "markdown",
      "metadata": {
        "id": "7onrE--KYCm1"
      },
      "source": [
        "## Load Bi-VAE-Density"
      ]
    },
    {
      "cell_type": "code",
      "metadata": {
        "colab": {
          "base_uri": "https://localhost:8080/"
        },
        "id": "IdC2lkJJXzQe",
        "outputId": "065ee008-5199-404b-e71a-f958efc78f6e"
      },
      "source": [
        "import tensorflow as tf\n",
        "\n",
        "bi_vae_density = tf.keras.models.load_model('Encoder_Bi-Vae-Density')"
      ],
      "execution_count": null,
      "outputs": [
        {
          "output_type": "stream",
          "name": "stdout",
          "text": [
            "WARNING:tensorflow:No training configuration found in save file, so the model was *not* compiled. Compile it manually.\n"
          ]
        }
      ]
    },
    {
      "cell_type": "markdown",
      "metadata": {
        "id": "i9C9yxfLYYav"
      },
      "source": [
        "## Load Kmeans"
      ]
    },
    {
      "cell_type": "code",
      "metadata": {
        "id": "Pk9nz79NWG6z"
      },
      "source": [
        "import pickle\n",
        "\n",
        "l_kmeans = []\n",
        "\n",
        "for i in range(6):\n",
        "  with open('DEMO/kmeans_1' + str(i) + '.pkl', 'rb') as file:\n",
        "    l_kmeans.append(pickle.load(file))"
      ],
      "execution_count": null,
      "outputs": []
    },
    {
      "cell_type": "markdown",
      "metadata": {
        "id": "BXkdSoK9YdA3"
      },
      "source": [
        "## Load fake news of train"
      ]
    },
    {
      "cell_type": "code",
      "metadata": {
        "id": "FNnhXDN_XVz0"
      },
      "source": [
        "import pandas as pd\n",
        "import numpy as np\n",
        "df_fk_train = pd.read_pickle('DEMO/fake_news_of_train.pkl')\n",
        "df_train = np.array(df_fk_train['DistilBERT Multilingua'].to_list())"
      ],
      "execution_count": null,
      "outputs": []
    },
    {
      "cell_type": "markdown",
      "metadata": {
        "id": "hyt5qbFwY5oQ"
      },
      "source": [
        "# DBERTML Embeddings (USE GPU)"
      ]
    },
    {
      "cell_type": "code",
      "metadata": {
        "colab": {
          "base_uri": "https://localhost:8080/"
        },
        "id": "B9AhWdJiY5C5",
        "outputId": "ae052097-8f09-4183-967a-1049ddf989c1"
      },
      "source": [
        "!pip install sentence-transformers==1.0.4 #version used in the fake news collections"
      ],
      "execution_count": null,
      "outputs": [
        {
          "output_type": "stream",
          "name": "stdout",
          "text": [
            "Collecting sentence-transformers==1.0.4\n",
            "  Downloading sentence-transformers-1.0.4.tar.gz (74 kB)\n",
            "\u001b[K     |████████████████████████████████| 74 kB 2.4 MB/s \n",
            "\u001b[?25hCollecting transformers<5.0.0,>=3.1.0\n",
            "  Downloading transformers-4.12.5-py3-none-any.whl (3.1 MB)\n",
            "\u001b[K     |████████████████████████████████| 3.1 MB 10.9 MB/s \n",
            "\u001b[?25hRequirement already satisfied: tqdm in /usr/local/lib/python3.7/dist-packages (from sentence-transformers==1.0.4) (4.62.3)\n",
            "Requirement already satisfied: torch>=1.6.0 in /usr/local/lib/python3.7/dist-packages (from sentence-transformers==1.0.4) (1.10.0+cu111)\n",
            "Requirement already satisfied: numpy in /usr/local/lib/python3.7/dist-packages (from sentence-transformers==1.0.4) (1.19.5)\n",
            "Requirement already satisfied: scikit-learn in /usr/local/lib/python3.7/dist-packages (from sentence-transformers==1.0.4) (1.0.1)\n",
            "Requirement already satisfied: scipy in /usr/local/lib/python3.7/dist-packages (from sentence-transformers==1.0.4) (1.4.1)\n",
            "Requirement already satisfied: nltk in /usr/local/lib/python3.7/dist-packages (from sentence-transformers==1.0.4) (3.2.5)\n",
            "Collecting sentencepiece\n",
            "  Downloading sentencepiece-0.1.96-cp37-cp37m-manylinux_2_17_x86_64.manylinux2014_x86_64.whl (1.2 MB)\n",
            "\u001b[K     |████████████████████████████████| 1.2 MB 41.9 MB/s \n",
            "\u001b[?25hRequirement already satisfied: typing-extensions in /usr/local/lib/python3.7/dist-packages (from torch>=1.6.0->sentence-transformers==1.0.4) (3.10.0.2)\n",
            "Collecting pyyaml>=5.1\n",
            "  Downloading PyYAML-6.0-cp37-cp37m-manylinux_2_5_x86_64.manylinux1_x86_64.manylinux_2_12_x86_64.manylinux2010_x86_64.whl (596 kB)\n",
            "\u001b[K     |████████████████████████████████| 596 kB 55.8 MB/s \n",
            "\u001b[?25hCollecting huggingface-hub<1.0,>=0.1.0\n",
            "  Downloading huggingface_hub-0.1.2-py3-none-any.whl (59 kB)\n",
            "\u001b[K     |████████████████████████████████| 59 kB 7.0 MB/s \n",
            "\u001b[?25hCollecting tokenizers<0.11,>=0.10.1\n",
            "  Downloading tokenizers-0.10.3-cp37-cp37m-manylinux_2_5_x86_64.manylinux1_x86_64.manylinux_2_12_x86_64.manylinux2010_x86_64.whl (3.3 MB)\n",
            "\u001b[K     |████████████████████████████████| 3.3 MB 43.3 MB/s \n",
            "\u001b[?25hRequirement already satisfied: filelock in /usr/local/lib/python3.7/dist-packages (from transformers<5.0.0,>=3.1.0->sentence-transformers==1.0.4) (3.4.0)\n",
            "Requirement already satisfied: importlib-metadata in /usr/local/lib/python3.7/dist-packages (from transformers<5.0.0,>=3.1.0->sentence-transformers==1.0.4) (4.8.2)\n",
            "Collecting sacremoses\n",
            "  Downloading sacremoses-0.0.46-py3-none-any.whl (895 kB)\n",
            "\u001b[K     |████████████████████████████████| 895 kB 77.3 MB/s \n",
            "\u001b[?25hRequirement already satisfied: packaging>=20.0 in /usr/local/lib/python3.7/dist-packages (from transformers<5.0.0,>=3.1.0->sentence-transformers==1.0.4) (21.3)\n",
            "Requirement already satisfied: requests in /usr/local/lib/python3.7/dist-packages (from transformers<5.0.0,>=3.1.0->sentence-transformers==1.0.4) (2.23.0)\n",
            "Requirement already satisfied: regex!=2019.12.17 in /usr/local/lib/python3.7/dist-packages (from transformers<5.0.0,>=3.1.0->sentence-transformers==1.0.4) (2019.12.20)\n",
            "Requirement already satisfied: pyparsing!=3.0.5,>=2.0.2 in /usr/local/lib/python3.7/dist-packages (from packaging>=20.0->transformers<5.0.0,>=3.1.0->sentence-transformers==1.0.4) (3.0.6)\n",
            "Requirement already satisfied: zipp>=0.5 in /usr/local/lib/python3.7/dist-packages (from importlib-metadata->transformers<5.0.0,>=3.1.0->sentence-transformers==1.0.4) (3.6.0)\n",
            "Requirement already satisfied: six in /usr/local/lib/python3.7/dist-packages (from nltk->sentence-transformers==1.0.4) (1.15.0)\n",
            "Requirement already satisfied: urllib3!=1.25.0,!=1.25.1,<1.26,>=1.21.1 in /usr/local/lib/python3.7/dist-packages (from requests->transformers<5.0.0,>=3.1.0->sentence-transformers==1.0.4) (1.24.3)\n",
            "Requirement already satisfied: chardet<4,>=3.0.2 in /usr/local/lib/python3.7/dist-packages (from requests->transformers<5.0.0,>=3.1.0->sentence-transformers==1.0.4) (3.0.4)\n",
            "Requirement already satisfied: certifi>=2017.4.17 in /usr/local/lib/python3.7/dist-packages (from requests->transformers<5.0.0,>=3.1.0->sentence-transformers==1.0.4) (2021.10.8)\n",
            "Requirement already satisfied: idna<3,>=2.5 in /usr/local/lib/python3.7/dist-packages (from requests->transformers<5.0.0,>=3.1.0->sentence-transformers==1.0.4) (2.10)\n",
            "Requirement already satisfied: click in /usr/local/lib/python3.7/dist-packages (from sacremoses->transformers<5.0.0,>=3.1.0->sentence-transformers==1.0.4) (7.1.2)\n",
            "Requirement already satisfied: joblib in /usr/local/lib/python3.7/dist-packages (from sacremoses->transformers<5.0.0,>=3.1.0->sentence-transformers==1.0.4) (1.1.0)\n",
            "Requirement already satisfied: threadpoolctl>=2.0.0 in /usr/local/lib/python3.7/dist-packages (from scikit-learn->sentence-transformers==1.0.4) (3.0.0)\n",
            "Building wheels for collected packages: sentence-transformers\n",
            "  Building wheel for sentence-transformers (setup.py) ... \u001b[?25l\u001b[?25hdone\n",
            "  Created wheel for sentence-transformers: filename=sentence_transformers-1.0.4-py3-none-any.whl size=114306 sha256=78750ed68821ab467e0d2be3b70b511b635008099ea444c8214422c7077ab808\n",
            "  Stored in directory: /root/.cache/pip/wheels/36/29/9e/1d73f2751adb27f61c414d2656cef08c8353b9ad7cb7f149ef\n",
            "Successfully built sentence-transformers\n",
            "Installing collected packages: pyyaml, tokenizers, sacremoses, huggingface-hub, transformers, sentencepiece, sentence-transformers\n",
            "  Attempting uninstall: pyyaml\n",
            "    Found existing installation: PyYAML 3.13\n",
            "    Uninstalling PyYAML-3.13:\n",
            "      Successfully uninstalled PyYAML-3.13\n",
            "Successfully installed huggingface-hub-0.1.2 pyyaml-6.0 sacremoses-0.0.46 sentence-transformers-1.0.4 sentencepiece-0.1.96 tokenizers-0.10.3 transformers-4.12.5\n"
          ]
        }
      ]
    },
    {
      "cell_type": "code",
      "metadata": {
        "id": "4aaqyH_KZDNJ"
      },
      "source": [
        "from sentence_transformers import SentenceTransformer"
      ],
      "execution_count": null,
      "outputs": []
    },
    {
      "cell_type": "code",
      "metadata": {
        "id": "sZK4rK_wZFhZ"
      },
      "source": [
        "def sentence_embedding(txts):\n",
        "\n",
        "  model = SentenceTransformer('distiluse-base-multilingual-cased')\n",
        "\n",
        "  sentences =[]\n",
        "\n",
        "  for txt in txts:\n",
        "    txt.replace('\\\\\\\\t', ' ')\n",
        "    txt.replace('\\\\\\\\r', ' ')\n",
        "    txt.replace('\\\\\\\\n',' ')\n",
        "    txt.replace('\\\\t', ' ')\n",
        "    txt.replace('\\\\r', ' ')\n",
        "    txt.replace('\\\\n',' ')\n",
        "    txt.replace('\\t', ' ')\n",
        "    txt.replace('\\r', ' ')\n",
        "    txt.replace('\\n',' ')\n",
        "    sentences.append(txt)\n",
        "\n",
        "  sentence_embeddings = model.encode(sentences)\n",
        "\n",
        "  return sentence_embeddings "
      ],
      "execution_count": null,
      "outputs": []
    },
    {
      "cell_type": "markdown",
      "metadata": {
        "id": "YaNbGGROYq_w"
      },
      "source": [
        "# Density Information"
      ]
    },
    {
      "cell_type": "code",
      "metadata": {
        "id": "akHpCfbOYvhS"
      },
      "source": [
        "from sklearn.cluster import KMeans\n",
        "from sklearn.metrics import silhouette_samples, silhouette_score\n",
        "import numpy as np \n",
        "\n",
        "def return_density_inf(l_kmeans, df_train, df_new):\n",
        "    l_x_new = []\n",
        "\n",
        "    len_train = len(df_train)\n",
        "    len_new = len(df_new)\n",
        "\n",
        "    for kmeans in l_kmeans:\n",
        "        x_new_temp = []\n",
        "\n",
        "        dfs = np.concatenate([df_train, df_new])\n",
        "        labels = np.concatenate([kmeans.labels_, kmeans.predict(df_new.astype('float64'))])\n",
        "          \n",
        "        silho = silhouette_samples(dfs, labels).reshape(len_train + len_new, 1)\n",
        "        l_x_new.append(silho[len_train:])\n",
        "\n",
        "    return np.concatenate(l_x_new, axis=1)"
      ],
      "execution_count": null,
      "outputs": []
    },
    {
      "cell_type": "markdown",
      "metadata": {
        "id": "xdyNNJ3ZZXxb"
      },
      "source": [
        "# DEMO"
      ]
    },
    {
      "cell_type": "code",
      "metadata": {
        "id": "NcpDQP5kZaED"
      },
      "source": [
        "inputs = [\n",
        "          'this is a real news',\n",
        "          'essa é uma noticia falsa sobre o bolsonaro',\n",
        "          'essa aqui é outra noticia falsa que fala sobre politica'\n",
        "]"
      ],
      "execution_count": null,
      "outputs": []
    },
    {
      "cell_type": "code",
      "metadata": {
        "id": "25w2fOzSZe8U",
        "colab": {
          "base_uri": "https://localhost:8080/",
          "height": 49,
          "referenced_widgets": [
            "39e7142408fe4cb6b3abbe879eb6a945",
            "2984df6b3f3c43ce9173748dfa934d54",
            "b4701f96a0784f5092976e032fa27086",
            "85e1eedf43da405d8b2033668d92d944",
            "5c84d7e7a48f43a28c6792c25f52c595",
            "80e9fb1a5da540c0b1f298ec654a603d",
            "4d2deac9f6d845d59ef48ec462b8f4b2",
            "9fc5a43fbdcc4f4dab99ca5fd2d39c45",
            "db4c852d8c3e4b9ab6860e6e4bef595b",
            "370208df36ec4dfe8709339834db4cde",
            "5cd21cfe76914bc794a2eff387df69aa"
          ]
        },
        "outputId": "e6580f29-e8d1-4391-fb0c-b5a4edea5b09"
      },
      "source": [
        "embeddings_DBERTML = sentence_embedding(inputs)"
      ],
      "execution_count": null,
      "outputs": [
        {
          "output_type": "display_data",
          "data": {
            "application/vnd.jupyter.widget-view+json": {
              "model_id": "39e7142408fe4cb6b3abbe879eb6a945",
              "version_minor": 0,
              "version_major": 2
            },
            "text/plain": [
              "  0%|          | 0.00/504M [00:00<?, ?B/s]"
            ]
          },
          "metadata": {}
        }
      ]
    },
    {
      "cell_type": "code",
      "metadata": {
        "id": "1q4xzB3BZkcT"
      },
      "source": [
        "densities = return_density_inf(l_kmeans, df_train, np.array(embeddings_DBERTML))"
      ],
      "execution_count": null,
      "outputs": []
    },
    {
      "cell_type": "code",
      "metadata": {
        "id": "yaCquSybaH-h"
      },
      "source": [
        "embeddings_BiVae, _, _ = bi_vae_density.predict([embeddings_DBERTML,densities]) "
      ],
      "execution_count": null,
      "outputs": []
    }
  ]
}